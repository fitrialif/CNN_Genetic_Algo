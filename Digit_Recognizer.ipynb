{
 "cells": [
  {
   "cell_type": "code",
   "execution_count": 23,
   "metadata": {},
   "outputs": [],
   "source": [
    "import pandas as pd\n",
    "import os\n",
    "import numpy as np\n",
    "import scipy as sp\n",
    "import sklearn.ensemble as ske\n",
    "from sklearn.cross_validation import cross_val_score\n",
    "import tensorflow as tf\n",
    "from __future__ import print_function\n",
    "import inspect"
   ]
  },
  {
   "cell_type": "markdown",
   "metadata": {},
   "source": [
    "# Prelim Analysis"
   ]
  },
  {
   "cell_type": "code",
   "execution_count": 24,
   "metadata": {
    "collapsed": true
   },
   "outputs": [],
   "source": [
    "os.chdir('./Kaggle_Digit_Recognizer/')"
   ]
  },
  {
   "cell_type": "code",
   "execution_count": 25,
   "metadata": {
    "collapsed": true
   },
   "outputs": [],
   "source": [
    "train = pd.read_csv('train.csv')"
   ]
  },
  {
   "cell_type": "code",
   "execution_count": 26,
   "metadata": {
    "collapsed": true
   },
   "outputs": [],
   "source": [
    "test = pd.read_csv('test.csv')"
   ]
  },
  {
   "cell_type": "code",
   "execution_count": 27,
   "metadata": {
    "collapsed": true
   },
   "outputs": [],
   "source": [
    "Results=pd.DataFrame(data={'ImageId':test.index+1})"
   ]
  },
  {
   "cell_type": "code",
   "execution_count": 28,
   "metadata": {
    "collapsed": true
   },
   "outputs": [],
   "source": [
    "train['label'] = train['label'].astype('category')"
   ]
  },
  {
   "cell_type": "code",
   "execution_count": 29,
   "metadata": {},
   "outputs": [
    {
     "data": {
      "text/html": [
       "<div>\n",
       "<style>\n",
       "    .dataframe thead tr:only-child th {\n",
       "        text-align: right;\n",
       "    }\n",
       "\n",
       "    .dataframe thead th {\n",
       "        text-align: left;\n",
       "    }\n",
       "\n",
       "    .dataframe tbody tr th {\n",
       "        vertical-align: top;\n",
       "    }\n",
       "</style>\n",
       "<table border=\"1\" class=\"dataframe\">\n",
       "  <thead>\n",
       "    <tr style=\"text-align: right;\">\n",
       "      <th></th>\n",
       "      <th>label</th>\n",
       "      <th>pixel0</th>\n",
       "      <th>pixel1</th>\n",
       "      <th>pixel2</th>\n",
       "      <th>pixel3</th>\n",
       "      <th>pixel4</th>\n",
       "      <th>pixel5</th>\n",
       "      <th>pixel6</th>\n",
       "      <th>pixel7</th>\n",
       "      <th>pixel8</th>\n",
       "      <th>...</th>\n",
       "      <th>pixel774</th>\n",
       "      <th>pixel775</th>\n",
       "      <th>pixel776</th>\n",
       "      <th>pixel777</th>\n",
       "      <th>pixel778</th>\n",
       "      <th>pixel779</th>\n",
       "      <th>pixel780</th>\n",
       "      <th>pixel781</th>\n",
       "      <th>pixel782</th>\n",
       "      <th>pixel783</th>\n",
       "    </tr>\n",
       "  </thead>\n",
       "  <tbody>\n",
       "    <tr>\n",
       "      <th>0</th>\n",
       "      <td>1</td>\n",
       "      <td>0</td>\n",
       "      <td>0</td>\n",
       "      <td>0</td>\n",
       "      <td>0</td>\n",
       "      <td>0</td>\n",
       "      <td>0</td>\n",
       "      <td>0</td>\n",
       "      <td>0</td>\n",
       "      <td>0</td>\n",
       "      <td>...</td>\n",
       "      <td>0</td>\n",
       "      <td>0</td>\n",
       "      <td>0</td>\n",
       "      <td>0</td>\n",
       "      <td>0</td>\n",
       "      <td>0</td>\n",
       "      <td>0</td>\n",
       "      <td>0</td>\n",
       "      <td>0</td>\n",
       "      <td>0</td>\n",
       "    </tr>\n",
       "    <tr>\n",
       "      <th>1</th>\n",
       "      <td>0</td>\n",
       "      <td>0</td>\n",
       "      <td>0</td>\n",
       "      <td>0</td>\n",
       "      <td>0</td>\n",
       "      <td>0</td>\n",
       "      <td>0</td>\n",
       "      <td>0</td>\n",
       "      <td>0</td>\n",
       "      <td>0</td>\n",
       "      <td>...</td>\n",
       "      <td>0</td>\n",
       "      <td>0</td>\n",
       "      <td>0</td>\n",
       "      <td>0</td>\n",
       "      <td>0</td>\n",
       "      <td>0</td>\n",
       "      <td>0</td>\n",
       "      <td>0</td>\n",
       "      <td>0</td>\n",
       "      <td>0</td>\n",
       "    </tr>\n",
       "    <tr>\n",
       "      <th>2</th>\n",
       "      <td>1</td>\n",
       "      <td>0</td>\n",
       "      <td>0</td>\n",
       "      <td>0</td>\n",
       "      <td>0</td>\n",
       "      <td>0</td>\n",
       "      <td>0</td>\n",
       "      <td>0</td>\n",
       "      <td>0</td>\n",
       "      <td>0</td>\n",
       "      <td>...</td>\n",
       "      <td>0</td>\n",
       "      <td>0</td>\n",
       "      <td>0</td>\n",
       "      <td>0</td>\n",
       "      <td>0</td>\n",
       "      <td>0</td>\n",
       "      <td>0</td>\n",
       "      <td>0</td>\n",
       "      <td>0</td>\n",
       "      <td>0</td>\n",
       "    </tr>\n",
       "    <tr>\n",
       "      <th>3</th>\n",
       "      <td>4</td>\n",
       "      <td>0</td>\n",
       "      <td>0</td>\n",
       "      <td>0</td>\n",
       "      <td>0</td>\n",
       "      <td>0</td>\n",
       "      <td>0</td>\n",
       "      <td>0</td>\n",
       "      <td>0</td>\n",
       "      <td>0</td>\n",
       "      <td>...</td>\n",
       "      <td>0</td>\n",
       "      <td>0</td>\n",
       "      <td>0</td>\n",
       "      <td>0</td>\n",
       "      <td>0</td>\n",
       "      <td>0</td>\n",
       "      <td>0</td>\n",
       "      <td>0</td>\n",
       "      <td>0</td>\n",
       "      <td>0</td>\n",
       "    </tr>\n",
       "    <tr>\n",
       "      <th>4</th>\n",
       "      <td>0</td>\n",
       "      <td>0</td>\n",
       "      <td>0</td>\n",
       "      <td>0</td>\n",
       "      <td>0</td>\n",
       "      <td>0</td>\n",
       "      <td>0</td>\n",
       "      <td>0</td>\n",
       "      <td>0</td>\n",
       "      <td>0</td>\n",
       "      <td>...</td>\n",
       "      <td>0</td>\n",
       "      <td>0</td>\n",
       "      <td>0</td>\n",
       "      <td>0</td>\n",
       "      <td>0</td>\n",
       "      <td>0</td>\n",
       "      <td>0</td>\n",
       "      <td>0</td>\n",
       "      <td>0</td>\n",
       "      <td>0</td>\n",
       "    </tr>\n",
       "  </tbody>\n",
       "</table>\n",
       "<p>5 rows × 785 columns</p>\n",
       "</div>"
      ],
      "text/plain": [
       "  label  pixel0  pixel1  pixel2  pixel3  pixel4  pixel5  pixel6  pixel7  \\\n",
       "0     1       0       0       0       0       0       0       0       0   \n",
       "1     0       0       0       0       0       0       0       0       0   \n",
       "2     1       0       0       0       0       0       0       0       0   \n",
       "3     4       0       0       0       0       0       0       0       0   \n",
       "4     0       0       0       0       0       0       0       0       0   \n",
       "\n",
       "   pixel8    ...     pixel774  pixel775  pixel776  pixel777  pixel778  \\\n",
       "0       0    ...            0         0         0         0         0   \n",
       "1       0    ...            0         0         0         0         0   \n",
       "2       0    ...            0         0         0         0         0   \n",
       "3       0    ...            0         0         0         0         0   \n",
       "4       0    ...            0         0         0         0         0   \n",
       "\n",
       "   pixel779  pixel780  pixel781  pixel782  pixel783  \n",
       "0         0         0         0         0         0  \n",
       "1         0         0         0         0         0  \n",
       "2         0         0         0         0         0  \n",
       "3         0         0         0         0         0  \n",
       "4         0         0         0         0         0  \n",
       "\n",
       "[5 rows x 785 columns]"
      ]
     },
     "execution_count": 29,
     "metadata": {},
     "output_type": "execute_result"
    }
   ],
   "source": [
    "train.head()"
   ]
  },
  {
   "cell_type": "markdown",
   "metadata": {},
   "source": [
    "Simplify By changing images from 0's and 255's to 0's and 1's"
   ]
  },
  {
   "cell_type": "code",
   "execution_count": 30,
   "metadata": {},
   "outputs": [
    {
     "name": "stderr",
     "output_type": "stream",
     "text": [
      "D:\\Anaconda\\envs\\tensorflow\\lib\\site-packages\\ipykernel_launcher.py:1: DeprecationWarning: \n",
      ".ix is deprecated. Please use\n",
      ".loc for label based indexing or\n",
      ".iloc for positional indexing\n",
      "\n",
      "See the documentation here:\n",
      "http://pandas.pydata.org/pandas-docs/stable/indexing.html#ix-indexer-is-deprecated\n",
      "  \"\"\"Entry point for launching an IPython kernel.\n"
     ]
    }
   ],
   "source": [
    "train.ix[:,1:]=train.ix[:,1:]/255."
   ]
  },
  {
   "cell_type": "code",
   "execution_count": 31,
   "metadata": {},
   "outputs": [
    {
     "data": {
      "text/plain": [
       "1.0"
      ]
     },
     "execution_count": 31,
     "metadata": {},
     "output_type": "execute_result"
    }
   ],
   "source": [
    "max(train.ix[1,:].as_matrix())"
   ]
  },
  {
   "cell_type": "code",
   "execution_count": 32,
   "metadata": {},
   "outputs": [
    {
     "data": {
      "text/plain": [
       "(42000, 785)"
      ]
     },
     "execution_count": 32,
     "metadata": {},
     "output_type": "execute_result"
    }
   ],
   "source": [
    "train.shape"
   ]
  },
  {
   "cell_type": "code",
   "execution_count": 33,
   "metadata": {},
   "outputs": [
    {
     "name": "stderr",
     "output_type": "stream",
     "text": [
      "D:\\Anaconda\\envs\\tensorflow\\lib\\site-packages\\ipykernel_launcher.py:1: DeprecationWarning: \n",
      ".ix is deprecated. Please use\n",
      ".loc for label based indexing or\n",
      ".iloc for positional indexing\n",
      "\n",
      "See the documentation here:\n",
      "http://pandas.pydata.org/pandas-docs/stable/indexing.html#ix-indexer-is-deprecated\n",
      "  \"\"\"Entry point for launching an IPython kernel.\n"
     ]
    }
   ],
   "source": [
    "test.ix[:,:]=test.ix[:,:]/255."
   ]
  },
  {
   "cell_type": "code",
   "execution_count": 34,
   "metadata": {},
   "outputs": [
    {
     "data": {
      "text/plain": [
       "1.0"
      ]
     },
     "execution_count": 34,
     "metadata": {},
     "output_type": "execute_result"
    }
   ],
   "source": [
    "max(test.ix[1,:].as_matrix())"
   ]
  },
  {
   "cell_type": "code",
   "execution_count": 35,
   "metadata": {},
   "outputs": [
    {
     "data": {
      "text/plain": [
       "(28000, 784)"
      ]
     },
     "execution_count": 35,
     "metadata": {},
     "output_type": "execute_result"
    }
   ],
   "source": [
    "test.shape"
   ]
  },
  {
   "cell_type": "markdown",
   "metadata": {},
   "source": [
    "# Random Forest Classifier"
   ]
  },
  {
   "cell_type": "code",
   "execution_count": 36,
   "metadata": {
    "collapsed": true
   },
   "outputs": [],
   "source": [
    "clf=ske.RandomForestClassifier(n_estimators=100)"
   ]
  },
  {
   "cell_type": "code",
   "execution_count": 37,
   "metadata": {
    "collapsed": true
   },
   "outputs": [],
   "source": [
    "scores = cross_val_score(clf, train.drop('label',axis=1), train['label'])"
   ]
  },
  {
   "cell_type": "code",
   "execution_count": 38,
   "metadata": {},
   "outputs": [
    {
     "data": {
      "text/plain": [
       "0.96290506306874779"
      ]
     },
     "execution_count": 38,
     "metadata": {},
     "output_type": "execute_result"
    }
   ],
   "source": [
    "scores.mean()"
   ]
  },
  {
   "cell_type": "code",
   "execution_count": 39,
   "metadata": {
    "collapsed": true
   },
   "outputs": [],
   "source": [
    "clf = clf.fit(train.drop('label',axis=1), train['label'])"
   ]
  },
  {
   "cell_type": "code",
   "execution_count": 41,
   "metadata": {
    "collapsed": true
   },
   "outputs": [],
   "source": [
    "Results['Label']=clf.predict(test)"
   ]
  },
  {
   "cell_type": "code",
   "execution_count": 42,
   "metadata": {},
   "outputs": [
    {
     "data": {
      "text/html": [
       "<div>\n",
       "<style>\n",
       "    .dataframe thead tr:only-child th {\n",
       "        text-align: right;\n",
       "    }\n",
       "\n",
       "    .dataframe thead th {\n",
       "        text-align: left;\n",
       "    }\n",
       "\n",
       "    .dataframe tbody tr th {\n",
       "        vertical-align: top;\n",
       "    }\n",
       "</style>\n",
       "<table border=\"1\" class=\"dataframe\">\n",
       "  <thead>\n",
       "    <tr style=\"text-align: right;\">\n",
       "      <th></th>\n",
       "      <th>ImageId</th>\n",
       "      <th>Label</th>\n",
       "    </tr>\n",
       "  </thead>\n",
       "  <tbody>\n",
       "    <tr>\n",
       "      <th>0</th>\n",
       "      <td>1</td>\n",
       "      <td>2</td>\n",
       "    </tr>\n",
       "    <tr>\n",
       "      <th>1</th>\n",
       "      <td>2</td>\n",
       "      <td>0</td>\n",
       "    </tr>\n",
       "    <tr>\n",
       "      <th>2</th>\n",
       "      <td>3</td>\n",
       "      <td>9</td>\n",
       "    </tr>\n",
       "    <tr>\n",
       "      <th>3</th>\n",
       "      <td>4</td>\n",
       "      <td>9</td>\n",
       "    </tr>\n",
       "    <tr>\n",
       "      <th>4</th>\n",
       "      <td>5</td>\n",
       "      <td>3</td>\n",
       "    </tr>\n",
       "  </tbody>\n",
       "</table>\n",
       "</div>"
      ],
      "text/plain": [
       "   ImageId  Label\n",
       "0        1      2\n",
       "1        2      0\n",
       "2        3      9\n",
       "3        4      9\n",
       "4        5      3"
      ]
     },
     "execution_count": 42,
     "metadata": {},
     "output_type": "execute_result"
    }
   ],
   "source": [
    "Results.head()"
   ]
  },
  {
   "cell_type": "code",
   "execution_count": 43,
   "metadata": {
    "collapsed": true
   },
   "outputs": [],
   "source": [
    "Results[['ImageId','Label']].to_csv('RFpred.csv',index=False)"
   ]
  },
  {
   "cell_type": "code",
   "execution_count": 44,
   "metadata": {
    "collapsed": true
   },
   "outputs": [],
   "source": [
    "Results.rename(columns={'Label': 'RFpred'}, inplace=True)"
   ]
  },
  {
   "cell_type": "markdown",
   "metadata": {},
   "source": [
    "Test Predictions were 96.457% Correct"
   ]
  },
  {
   "cell_type": "markdown",
   "metadata": {},
   "source": [
    "# Genetic Algorithm Baseline Functions"
   ]
  },
  {
   "cell_type": "code",
   "execution_count": 46,
   "metadata": {},
   "outputs": [
    {
     "data": {
      "text/plain": [
       "array([[-0.14770604, -0.26183749]])"
      ]
     },
     "execution_count": 46,
     "metadata": {},
     "output_type": "execute_result"
    }
   ],
   "source": [
    "np.random.normal(size=[1,2])"
   ]
  },
  {
   "cell_type": "code",
   "execution_count": 74,
   "metadata": {},
   "outputs": [
    {
     "data": {
      "text/plain": [
       "(1, 2)"
      ]
     },
     "execution_count": 74,
     "metadata": {},
     "output_type": "execute_result"
    }
   ],
   "source": [
    "np.array([[1,1]]).shape"
   ]
  },
  {
   "cell_type": "code",
   "execution_count": 126,
   "metadata": {},
   "outputs": [
    {
     "data": {
      "text/plain": [
       "array([[  2,  13],\n",
       "       [ 15,   9],\n",
       "       [ -4,  -5],\n",
       "       [ 31,   1],\n",
       "       [  6, -10]])"
      ]
     },
     "execution_count": 126,
     "metadata": {},
     "output_type": "execute_result"
    }
   ],
   "source": [
    "simple_reproduce([np.array([1,2])])"
   ]
  },
  {
   "cell_type": "code",
   "execution_count": 290,
   "metadata": {},
   "outputs": [],
   "source": [
    "#cnv_1,cnv_2,output_1,output_2_scale\n",
    "def random_population(shape):\n",
    "    return np.array([np.array([3,3,64,2]),1])\n",
    "    #return np.random.normal(scale=10.0,size=shape)\n",
    "# Takes in a population and runs the neural network\n",
    "# prereq random_population\n",
    "# takes in a poulation(array of hyperparameters) and a neural network training function\n",
    "\n",
    "def perturb(l,noise=1.0):\n",
    "    return l+np.array([1,1,8,1])*np.random.normal(scale=noise,size=l.shape).astype(int)\n",
    "\n",
    "def simple_reproduce(fitness_top,num_child=10):\n",
    "    winner=fitness_top[0]\n",
    "    children=[]\n",
    "    while len(children)<num_child:\n",
    "        new_child=perturb(winner)\n",
    "        if not any(all(e == new_child) for e in children):\n",
    "            children.append(new_child)\n",
    "    return np.array(children).astype(int)\n",
    "\n",
    "def test_individuals(pop,nn_alg):\n",
    "    fit=[]\n",
    "    for per in pop:\n",
    "        fitness=nn_alg(per)\n",
    "        fit.append([per,fitness])\n",
    "    fit_sorted=sorted(fit,key=lambda x: x[1],reverse=True)\n",
    "    return fit_sorted\n",
    "\n",
    "def genetic_algo(shape,nn_alg,generations=10):\n",
    "    pop_fitness=np.array([random_population(shape)])\n",
    "    gen=0\n",
    "    fit_levels=dict.fromkeys(range(generations),[])\n",
    "    while gen<generations:\n",
    "        pop=simple_reproduce(pop_fitness[0])\n",
    "        print(pop)\n",
    "        pop_fitness=test_individuals(pop,nn_alg)\n",
    "        print(pop_fitness)\n",
    "        fit_levels[gen].append(pop_fitness)\n",
    "        gen+=1\n",
    "        print(\"NEW GENERATION:\")\n",
    "    return fit_levels\n",
    "        \n",
    "        "
   ]
  },
  {
   "cell_type": "code",
   "execution_count": 184,
   "metadata": {},
   "outputs": [
    {
     "data": {
      "text/plain": [
       "'1.12.1'"
      ]
     },
     "execution_count": 184,
     "metadata": {},
     "output_type": "execute_result"
    }
   ],
   "source": [
    "np.__version__"
   ]
  },
  {
   "cell_type": "markdown",
   "metadata": {},
   "source": [
    "# TensorFlow MLP - Genetic Algorithm"
   ]
  },
  {
   "cell_type": "code",
   "execution_count": 233,
   "metadata": {
    "scrolled": true
   },
   "outputs": [
    {
     "name": "stdout",
     "output_type": "stream",
     "text": [
      "Extracting /tmp/data/train-images-idx3-ubyte.gz\n",
      "Extracting /tmp/data/train-labels-idx1-ubyte.gz\n",
      "Extracting /tmp/data/t10k-images-idx3-ubyte.gz\n",
      "Extracting /tmp/data/t10k-labels-idx1-ubyte.gz\n"
     ]
    }
   ],
   "source": [
    "from tensorflow.examples.tutorials.mnist import input_data\n",
    "mnist = input_data.read_data_sets(\"/tmp/data/\", one_hot=True)"
   ]
  },
  {
   "cell_type": "code",
   "execution_count": 234,
   "metadata": {},
   "outputs": [
    {
     "data": {
      "text/plain": [
       "(55000, 10)"
      ]
     },
     "execution_count": 234,
     "metadata": {},
     "output_type": "execute_result"
    }
   ],
   "source": [
    "np.shape(mnist.train.labels)"
   ]
  },
  {
   "cell_type": "code",
   "execution_count": 235,
   "metadata": {},
   "outputs": [
    {
     "data": {
      "text/plain": [
       "array([[ 0.,  0.,  0., ...,  1.,  0.,  0.],\n",
       "       [ 0.,  0.,  0., ...,  0.,  0.,  0.],\n",
       "       [ 0.,  0.,  0., ...,  0.,  0.,  0.],\n",
       "       ..., \n",
       "       [ 0.,  0.,  0., ...,  0.,  0.,  0.],\n",
       "       [ 0.,  0.,  0., ...,  0.,  0.,  0.],\n",
       "       [ 0.,  0.,  0., ...,  0.,  1.,  0.]])"
      ]
     },
     "execution_count": 235,
     "metadata": {},
     "output_type": "execute_result"
    }
   ],
   "source": [
    "mnist.train.labels"
   ]
  },
  {
   "cell_type": "markdown",
   "metadata": {},
   "source": [
    "First I want to make one_hot vectors"
   ]
  },
  {
   "cell_type": "code",
   "execution_count": 236,
   "metadata": {},
   "outputs": [],
   "source": [
    "labels = train.label.as_matrix()"
   ]
  },
  {
   "cell_type": "code",
   "execution_count": 237,
   "metadata": {},
   "outputs": [
    {
     "data": {
      "text/plain": [
       "10"
      ]
     },
     "execution_count": 237,
     "metadata": {},
     "output_type": "execute_result"
    }
   ],
   "source": [
    "len(np.unique(labels))"
   ]
  },
  {
   "cell_type": "code",
   "execution_count": 238,
   "metadata": {},
   "outputs": [
    {
     "data": {
      "text/plain": [
       "(42000,)"
      ]
     },
     "execution_count": 238,
     "metadata": {},
     "output_type": "execute_result"
    }
   ],
   "source": [
    "np.shape(labels)"
   ]
  },
  {
   "cell_type": "code",
   "execution_count": 240,
   "metadata": {
    "collapsed": true
   },
   "outputs": [],
   "source": [
    "ohlabels = np.zeros((42000,10))\n",
    "ohlabels[np.arange(42000),labels]=1"
   ]
  },
  {
   "cell_type": "code",
   "execution_count": 241,
   "metadata": {},
   "outputs": [
    {
     "data": {
      "text/plain": [
       "array([[ 0.,  1.,  0., ...,  0.,  0.,  0.],\n",
       "       [ 1.,  0.,  0., ...,  0.,  0.,  0.],\n",
       "       [ 0.,  1.,  0., ...,  0.,  0.,  0.],\n",
       "       ..., \n",
       "       [ 0.,  0.,  0., ...,  1.,  0.,  0.],\n",
       "       [ 0.,  0.,  0., ...,  0.,  0.,  0.],\n",
       "       [ 0.,  0.,  0., ...,  0.,  0.,  1.]])"
      ]
     },
     "execution_count": 241,
     "metadata": {},
     "output_type": "execute_result"
    }
   ],
   "source": [
    "ohlabels"
   ]
  },
  {
   "cell_type": "code",
   "execution_count": 242,
   "metadata": {
    "collapsed": true
   },
   "outputs": [],
   "source": [
    "images = train.drop('label',axis=1).as_matrix()"
   ]
  },
  {
   "cell_type": "code",
   "execution_count": 243,
   "metadata": {
    "collapsed": true
   },
   "outputs": [],
   "source": [
    "learning_rate = .001\n",
    "training_epochs = 5 #?\n",
    "batch_size = 200\n",
    "display_step = training_epochs-1\n",
    "\n",
    "n_hidden_1 = 256\n",
    "n_hidden_2 = 256\n",
    "n_input = 784\n",
    "n_classes = 10"
   ]
  },
  {
   "cell_type": "code",
   "execution_count": 244,
   "metadata": {
    "collapsed": true
   },
   "outputs": [],
   "source": [
    "x = tf.placeholder(\"float\", [None, n_input])\n",
    "y = tf.placeholder(\"float\", [None, n_classes])"
   ]
  },
  {
   "cell_type": "code",
   "execution_count": 245,
   "metadata": {
    "collapsed": true
   },
   "outputs": [],
   "source": [
    "trainlist=train.as_matrix()"
   ]
  },
  {
   "cell_type": "code",
   "execution_count": 246,
   "metadata": {
    "collapsed": true
   },
   "outputs": [],
   "source": [
    "#Create simple MLP\n",
    "def mlp(x, weights, biases):\n",
    "    layer_1 = tf.add(tf.matmul(x,weights['h1']),biases['b1'])\n",
    "    layer_1 = tf.nn.relu(layer_1)\n",
    "    layer_2 = tf.add(tf.matmul(layer_1,weights['h2']),biases['b2'])\n",
    "    layer_2 = tf.nn.relu(layer_2)\n",
    "    out_layer = tf.matmul(layer_2, weights['out']) + biases['out']\n",
    "    return out_layer"
   ]
  },
  {
   "cell_type": "code",
   "execution_count": 247,
   "metadata": {
    "collapsed": true
   },
   "outputs": [],
   "source": [
    "weights = {\n",
    "    'h1': tf.Variable(tf.random_normal([n_input,n_hidden_1])),\n",
    "    'h2': tf.Variable(tf.random_normal([n_hidden_1,n_hidden_2])),\n",
    "    'out': tf.Variable(tf.random_normal([n_hidden_2,n_classes]))\n",
    "}"
   ]
  },
  {
   "cell_type": "code",
   "execution_count": 248,
   "metadata": {
    "collapsed": true
   },
   "outputs": [],
   "source": [
    "biases = {\n",
    "    'b1': tf.Variable(tf.random_normal([n_hidden_1])),\n",
    "    'b2': tf.Variable(tf.random_normal([n_hidden_2])),\n",
    "    'out': tf.Variable(tf.random_normal([n_classes]))\n",
    "}"
   ]
  },
  {
   "cell_type": "code",
   "execution_count": 249,
   "metadata": {},
   "outputs": [],
   "source": [
    "def define_mlp_weights(l):\n",
    "    n_hidden_1,n_hidden_2=l\n",
    "    return {\n",
    "    'h1': tf.Variable(tf.random_normal([n_input,n_hidden_1])),\n",
    "    'h2': tf.Variable(tf.random_normal([n_hidden_1,n_hidden_2])),\n",
    "    'out': tf.Variable(tf.random_normal([n_hidden_2,n_classes]))\n",
    "    }\n",
    "\n",
    "def define_mlp_biases(l):\n",
    "    n_hidden_1,n_hidden_2=l\n",
    "    return {\n",
    "    'b1': tf.Variable(tf.random_normal([n_hidden_1])),\n",
    "    'b2': tf.Variable(tf.random_normal([n_hidden_2])),\n",
    "    'out': tf.Variable(tf.random_normal([n_classes]))\n",
    "    }\n",
    "\n",
    "def mlp_train(l):\n",
    "    weights=define_mlp_weights(l)\n",
    "    biases=define_mlp_biases(l)\n",
    "    pred=mlp(x,weights,biases)\n",
    "    cost = tf.reduce_mean(tf.nn.softmax_cross_entropy_with_logits(labels=y,logits=pred))\n",
    "    optimizer = tf.train.AdamOptimizer(learning_rate=learning_rate).minimize(cost)\n",
    "    init = tf.initialize_all_variables()\n",
    "    with tf.Session(config=tf.ConfigProto(log_device_placement=True)) as sess:\n",
    "        sess.run(init)\n",
    "        for epoch in range(training_epochs):\n",
    "            avg_cost=0.\n",
    "            total_batch = int(np.shape(images)[0]/batch_size)\n",
    "            np.random.shuffle(trainlist)\n",
    "            for i in range(total_batch):\n",
    "                batch_x = trainlist[:,1:][i*batch_size:(i+1)*batch_size]\n",
    "                lbl_y = trainlist[:,0][i*batch_size:(i+1)*batch_size]\n",
    "                batch_y = np.zeros((batch_size,10))\n",
    "                batch_y[np.arange(batch_size),lbl_y.astype('int')]=1\n",
    "                _, c = sess.run([optimizer,cost],feed_dict={x:batch_x, y:batch_y})\n",
    "                avg_cost += c / total_batch\n",
    "            if epoch % display_step ==0:\n",
    "                print(\"Epoch:\", '%04d' % (epoch+1),\"cost=\", \"{:.9f}\".format(avg_cost))\n",
    "        print(\"Optimization finished\")\n",
    "        correct_prediction = tf.equal(tf.argmax(pred,1),tf.argmax(y,1))\n",
    "        accuracy = tf.reduce_mean(tf.cast(correct_prediction, \"float\"))\n",
    "        predict=tf.argmax(pred,1)\n",
    "        pred_labels=predict.eval(feed_dict={x: test.as_matrix()})\n",
    "        accuracy=accuracy.eval({x: mnist.test.images, y: mnist.test.labels})\n",
    "    return accuracy"
   ]
  },
  {
   "cell_type": "code",
   "execution_count": 129,
   "metadata": {
    "collapsed": true
   },
   "outputs": [],
   "source": [
    "a=[[np.array([[248, 242],\n",
    "       [250, 260],\n",
    "       [257, 244],\n",
    "       [262, 266],\n",
    "       [255, 266]]), 0.89800006], [np.array([[248, 242],\n",
    "       [250, 260],\n",
    "       [257, 244],\n",
    "       [262, 266],\n",
    "       [255, 266]]), 0.89570004], [np.array([[248, 242],\n",
    "       [250, 260],\n",
    "       [257, 244],\n",
    "       [262, 266],\n",
    "       [255, 266]]), 0.89520007], [np.array([[248, 242],\n",
    "       [250, 260],\n",
    "       [257, 244],\n",
    "       [262, 266],\n",
    "       [255, 266]]), 0.89410013], [np.array([[248, 242],\n",
    "       [250, 260],\n",
    "       [257, 244],\n",
    "       [262, 266],\n",
    "       [255, 266]]), 0.8914001]]"
   ]
  },
  {
   "cell_type": "code",
   "execution_count": 132,
   "metadata": {},
   "outputs": [
    {
     "data": {
      "text/plain": [
       "(5, 2)"
      ]
     },
     "execution_count": 132,
     "metadata": {},
     "output_type": "execute_result"
    }
   ],
   "source": [
    "a[0][0].shape"
   ]
  },
  {
   "cell_type": "code",
   "execution_count": null,
   "metadata": {
    "collapsed": true
   },
   "outputs": [],
   "source": []
  },
  {
   "cell_type": "code",
   "execution_count": 214,
   "metadata": {
    "scrolled": false
   },
   "outputs": [
    {
     "name": "stdout",
     "output_type": "stream",
     "text": [
      "[[256 128]\n",
      " [128 128]\n",
      " [192 128]\n",
      " [128   0]\n",
      " [ 64 192]]\n",
      "WARNING:tensorflow:From <ipython-input-136-b1595a36c953>:7: initialize_all_variables (from tensorflow.python.ops.variables) is deprecated and will be removed after 2017-03-02.\n",
      "Instructions for updating:\n",
      "Use `tf.global_variables_initializer` instead.\n",
      "Epoch: 0001 cost= 149.354815501\n",
      "Epoch: 0005 cost= 12.849312058\n",
      "Optimization finished\n",
      "WARNING:tensorflow:From <ipython-input-136-b1595a36c953>:7: initialize_all_variables (from tensorflow.python.ops.variables) is deprecated and will be removed after 2017-03-02.\n",
      "Instructions for updating:\n",
      "Use `tf.global_variables_initializer` instead.\n",
      "Epoch: 0001 cost= 115.742957201\n",
      "Epoch: 0005 cost= 9.659891692\n",
      "Optimization finished\n",
      "WARNING:tensorflow:From <ipython-input-136-b1595a36c953>:7: initialize_all_variables (from tensorflow.python.ops.variables) is deprecated and will be removed after 2017-03-02.\n",
      "Instructions for updating:\n",
      "Use `tf.global_variables_initializer` instead.\n",
      "Epoch: 0001 cost= 140.495910763\n",
      "Epoch: 0005 cost= 10.629293574\n",
      "Optimization finished\n",
      "WARNING:tensorflow:From <ipython-input-136-b1595a36c953>:7: initialize_all_variables (from tensorflow.python.ops.variables) is deprecated and will be removed after 2017-03-02.\n",
      "Instructions for updating:\n",
      "Use `tf.global_variables_initializer` instead.\n",
      "Epoch: 0001 cost= 2.593977552\n",
      "Epoch: 0005 cost= 2.312230450\n",
      "Optimization finished\n",
      "WARNING:tensorflow:From <ipython-input-136-b1595a36c953>:7: initialize_all_variables (from tensorflow.python.ops.variables) is deprecated and will be removed after 2017-03-02.\n",
      "Instructions for updating:\n",
      "Use `tf.global_variables_initializer` instead.\n",
      "Epoch: 0001 cost= 140.159781797\n",
      "Epoch: 0005 cost= 11.335627532\n",
      "Optimization finished\n",
      "[[array([256, 128]), 0.92280006], [array([192, 128]), 0.91540015], [array([128, 128]), 0.91040009], [array([ 64, 192]), 0.87550014], [array([128,   0]), 0.097399995]]\n",
      "NEW GENERATION:\n",
      "[[320 128]\n",
      " [256 128]\n",
      " [256 192]\n",
      " [192 192]\n",
      " [256  64]]\n",
      "WARNING:tensorflow:From <ipython-input-136-b1595a36c953>:7: initialize_all_variables (from tensorflow.python.ops.variables) is deprecated and will be removed after 2017-03-02.\n",
      "Instructions for updating:\n",
      "Use `tf.global_variables_initializer` instead.\n",
      "Epoch: 0001 cost= 180.090170215\n",
      "Epoch: 0005 cost= 13.337855494\n",
      "Optimization finished\n",
      "WARNING:tensorflow:From <ipython-input-136-b1595a36c953>:7: initialize_all_variables (from tensorflow.python.ops.variables) is deprecated and will be removed after 2017-03-02.\n",
      "Instructions for updating:\n",
      "Use `tf.global_variables_initializer` instead.\n",
      "Epoch: 0001 cost= 120.540752974\n",
      "Epoch: 0005 cost= 9.874752014\n",
      "Optimization finished\n",
      "WARNING:tensorflow:From <ipython-input-136-b1595a36c953>:7: initialize_all_variables (from tensorflow.python.ops.variables) is deprecated and will be removed after 2017-03-02.\n",
      "Instructions for updating:\n",
      "Use `tf.global_variables_initializer` instead.\n",
      "Epoch: 0001 cost= 161.596502504\n",
      "Epoch: 0005 cost= 14.825288565\n",
      "Optimization finished\n",
      "WARNING:tensorflow:From <ipython-input-136-b1595a36c953>:7: initialize_all_variables (from tensorflow.python.ops.variables) is deprecated and will be removed after 2017-03-02.\n",
      "Instructions for updating:\n",
      "Use `tf.global_variables_initializer` instead.\n",
      "Epoch: 0001 cost= 169.146746912\n",
      "Epoch: 0005 cost= 12.352429904\n",
      "Optimization finished\n",
      "WARNING:tensorflow:From <ipython-input-136-b1595a36c953>:7: initialize_all_variables (from tensorflow.python.ops.variables) is deprecated and will be removed after 2017-03-02.\n",
      "Instructions for updating:\n",
      "Use `tf.global_variables_initializer` instead.\n",
      "Epoch: 0001 cost= 114.487334719\n",
      "Epoch: 0005 cost= 9.053151848\n",
      "Optimization finished\n",
      "[[array([256, 192]), 0.93890011], [array([256, 128]), 0.92990005], [array([320, 128]), 0.92640013], [array([192, 192]), 0.92400014], [array([256,  64]), 0.91640007]]\n",
      "NEW GENERATION:\n",
      "[[256 192]\n",
      " [320 192]\n",
      " [320  64]\n",
      " [256 256]\n",
      " [192 192]]\n",
      "WARNING:tensorflow:From <ipython-input-136-b1595a36c953>:7: initialize_all_variables (from tensorflow.python.ops.variables) is deprecated and will be removed after 2017-03-02.\n",
      "Instructions for updating:\n",
      "Use `tf.global_variables_initializer` instead.\n",
      "Epoch: 0001 cost= 178.745187837\n",
      "Epoch: 0005 cost= 13.048770607\n",
      "Optimization finished\n",
      "WARNING:tensorflow:From <ipython-input-136-b1595a36c953>:7: initialize_all_variables (from tensorflow.python.ops.variables) is deprecated and will be removed after 2017-03-02.\n",
      "Instructions for updating:\n",
      "Use `tf.global_variables_initializer` instead.\n",
      "Epoch: 0001 cost= 194.347510638\n",
      "Epoch: 0005 cost= 14.602592882\n",
      "Optimization finished\n",
      "WARNING:tensorflow:From <ipython-input-136-b1595a36c953>:7: initialize_all_variables (from tensorflow.python.ops.variables) is deprecated and will be removed after 2017-03-02.\n",
      "Instructions for updating:\n",
      "Use `tf.global_variables_initializer` instead.\n",
      "Epoch: 0001 cost= 124.589843773\n",
      "Epoch: 0005 cost= 7.441377152\n",
      "Optimization finished\n",
      "WARNING:tensorflow:From <ipython-input-136-b1595a36c953>:7: initialize_all_variables (from tensorflow.python.ops.variables) is deprecated and will be removed after 2017-03-02.\n",
      "Instructions for updating:\n",
      "Use `tf.global_variables_initializer` instead.\n",
      "Epoch: 0001 cost= 166.117694428\n",
      "Epoch: 0005 cost= 14.995382639\n",
      "Optimization finished\n",
      "WARNING:tensorflow:From <ipython-input-136-b1595a36c953>:7: initialize_all_variables (from tensorflow.python.ops.variables) is deprecated and will be removed after 2017-03-02.\n",
      "Instructions for updating:\n",
      "Use `tf.global_variables_initializer` instead.\n",
      "Epoch: 0001 cost= 144.967620046\n",
      "Epoch: 0005 cost= 12.295539185\n",
      "Optimization finished\n",
      "[[array([320, 192]), 0.94080013], [array([256, 256]), 0.93670011], [array([256, 192]), 0.93180007], [array([192, 192]), 0.92560011], [array([320,  64]), 0.89880008]]\n",
      "NEW GENERATION:\n",
      "[[320 192]\n",
      " [320 256]\n",
      " [320 128]\n",
      " [256 192]\n",
      " [256 256]]\n",
      "WARNING:tensorflow:From <ipython-input-136-b1595a36c953>:7: initialize_all_variables (from tensorflow.python.ops.variables) is deprecated and will be removed after 2017-03-02.\n",
      "Instructions for updating:\n",
      "Use `tf.global_variables_initializer` instead.\n",
      "Epoch: 0001 cost= 209.572713838\n",
      "Epoch: 0005 cost= 14.526087976\n",
      "Optimization finished\n",
      "WARNING:tensorflow:From <ipython-input-136-b1595a36c953>:7: initialize_all_variables (from tensorflow.python.ops.variables) is deprecated and will be removed after 2017-03-02.\n",
      "Instructions for updating:\n",
      "Use `tf.global_variables_initializer` instead.\n",
      "Epoch: 0001 cost= 207.771374920\n",
      "Epoch: 0005 cost= 15.063390575\n",
      "Optimization finished\n",
      "WARNING:tensorflow:From <ipython-input-136-b1595a36c953>:7: initialize_all_variables (from tensorflow.python.ops.variables) is deprecated and will be removed after 2017-03-02.\n",
      "Instructions for updating:\n",
      "Use `tf.global_variables_initializer` instead.\n",
      "Epoch: 0001 cost= 187.888936238\n",
      "Epoch: 0005 cost= 11.393518486\n",
      "Optimization finished\n",
      "WARNING:tensorflow:From <ipython-input-136-b1595a36c953>:7: initialize_all_variables (from tensorflow.python.ops.variables) is deprecated and will be removed after 2017-03-02.\n",
      "Instructions for updating:\n",
      "Use `tf.global_variables_initializer` instead.\n",
      "Epoch: 0001 cost= 182.136343238\n",
      "Epoch: 0005 cost= 14.426729205\n",
      "Optimization finished\n",
      "WARNING:tensorflow:From <ipython-input-136-b1595a36c953>:7: initialize_all_variables (from tensorflow.python.ops.variables) is deprecated and will be removed after 2017-03-02.\n",
      "Instructions for updating:\n",
      "Use `tf.global_variables_initializer` instead.\n",
      "Epoch: 0001 cost= 189.787799599\n",
      "Epoch: 0005 cost= 14.880836138\n",
      "Optimization finished\n",
      "[[array([320, 256]), 0.9435001], [array([320, 192]), 0.93600011], [array([256, 256]), 0.93470007], [array([256, 192]), 0.93400007], [array([320, 128]), 0.92740011]]\n",
      "NEW GENERATION:\n",
      "[[320 256]\n",
      " [256 256]\n",
      " [320 320]\n",
      " [384 256]\n",
      " [320 192]]\n",
      "WARNING:tensorflow:From <ipython-input-136-b1595a36c953>:7: initialize_all_variables (from tensorflow.python.ops.variables) is deprecated and will be removed after 2017-03-02.\n",
      "Instructions for updating:\n",
      "Use `tf.global_variables_initializer` instead.\n",
      "Epoch: 0001 cost= 204.989242263\n",
      "Epoch: 0005 cost= 15.601304298\n",
      "Optimization finished\n",
      "WARNING:tensorflow:From <ipython-input-136-b1595a36c953>:7: initialize_all_variables (from tensorflow.python.ops.variables) is deprecated and will be removed after 2017-03-02.\n",
      "Instructions for updating:\n",
      "Use `tf.global_variables_initializer` instead.\n"
     ]
    },
    {
     "name": "stdout",
     "output_type": "stream",
     "text": [
      "Epoch: 0001 cost= 241.510025692\n",
      "Epoch: 0005 cost= 17.223160299\n",
      "Optimization finished\n",
      "WARNING:tensorflow:From <ipython-input-136-b1595a36c953>:7: initialize_all_variables (from tensorflow.python.ops.variables) is deprecated and will be removed after 2017-03-02.\n",
      "Instructions for updating:\n",
      "Use `tf.global_variables_initializer` instead.\n",
      "Epoch: 0001 cost= 194.466384443\n",
      "Epoch: 0005 cost= 15.969592578\n",
      "Optimization finished\n",
      "WARNING:tensorflow:From <ipython-input-136-b1595a36c953>:7: initialize_all_variables (from tensorflow.python.ops.variables) is deprecated and will be removed after 2017-03-02.\n",
      "Instructions for updating:\n",
      "Use `tf.global_variables_initializer` instead.\n",
      "Epoch: 0001 cost= 222.161565585\n",
      "Epoch: 0005 cost= 15.776182605\n",
      "Optimization finished\n",
      "WARNING:tensorflow:From <ipython-input-136-b1595a36c953>:7: initialize_all_variables (from tensorflow.python.ops.variables) is deprecated and will be removed after 2017-03-02.\n",
      "Instructions for updating:\n",
      "Use `tf.global_variables_initializer` instead.\n",
      "Epoch: 0001 cost= 187.866199216\n",
      "Epoch: 0005 cost= 13.795136972\n",
      "Optimization finished\n",
      "[[array([384, 256]), 0.94240016], [array([320, 320]), 0.94190013], [array([320, 192]), 0.94000006], [array([320, 256]), 0.93910015], [array([256, 256]), 0.93160009]]\n",
      "NEW GENERATION:\n",
      "[[320 256]\n",
      " [384 256]\n",
      " [384 192]\n",
      " [320 128]\n",
      " [448 256]]\n",
      "WARNING:tensorflow:From <ipython-input-136-b1595a36c953>:7: initialize_all_variables (from tensorflow.python.ops.variables) is deprecated and will be removed after 2017-03-02.\n",
      "Instructions for updating:\n",
      "Use `tf.global_variables_initializer` instead.\n",
      "Epoch: 0001 cost= 220.881267420\n",
      "Epoch: 0005 cost= 16.414761923\n",
      "Optimization finished\n",
      "WARNING:tensorflow:From <ipython-input-136-b1595a36c953>:7: initialize_all_variables (from tensorflow.python.ops.variables) is deprecated and will be removed after 2017-03-02.\n",
      "Instructions for updating:\n",
      "Use `tf.global_variables_initializer` instead.\n",
      "Epoch: 0001 cost= 230.289565291\n",
      "Epoch: 0005 cost= 15.764034766\n",
      "Optimization finished\n",
      "WARNING:tensorflow:From <ipython-input-136-b1595a36c953>:7: initialize_all_variables (from tensorflow.python.ops.variables) is deprecated and will be removed after 2017-03-02.\n",
      "Instructions for updating:\n",
      "Use `tf.global_variables_initializer` instead.\n",
      "Epoch: 0001 cost= 234.173879528\n",
      "Epoch: 0005 cost= 14.656204581\n",
      "Optimization finished\n",
      "WARNING:tensorflow:From <ipython-input-136-b1595a36c953>:7: initialize_all_variables (from tensorflow.python.ops.variables) is deprecated and will be removed after 2017-03-02.\n",
      "Instructions for updating:\n",
      "Use `tf.global_variables_initializer` instead.\n",
      "Epoch: 0001 cost= 162.900828866\n",
      "Epoch: 0005 cost= 12.320781651\n",
      "Optimization finished\n",
      "WARNING:tensorflow:From <ipython-input-136-b1595a36c953>:7: initialize_all_variables (from tensorflow.python.ops.variables) is deprecated and will be removed after 2017-03-02.\n",
      "Instructions for updating:\n",
      "Use `tf.global_variables_initializer` instead.\n",
      "Epoch: 0001 cost= 216.859106736\n",
      "Epoch: 0005 cost= 15.272162873\n",
      "Optimization finished\n",
      "[[array([384, 256]), 0.94590014], [array([448, 256]), 0.9449001], [array([384, 192]), 0.93940008], [array([320, 256]), 0.93920016], [array([320, 128]), 0.93250012]]\n",
      "NEW GENERATION:\n",
      "[[384 192]\n",
      " [384 256]\n",
      " [448 256]\n",
      " [320 256]\n",
      " [448 320]]\n",
      "WARNING:tensorflow:From <ipython-input-136-b1595a36c953>:7: initialize_all_variables (from tensorflow.python.ops.variables) is deprecated and will be removed after 2017-03-02.\n",
      "Instructions for updating:\n",
      "Use `tf.global_variables_initializer` instead.\n",
      "Epoch: 0001 cost= 211.213289969\n",
      "Epoch: 0005 cost= 15.569471673\n",
      "Optimization finished\n",
      "WARNING:tensorflow:From <ipython-input-136-b1595a36c953>:7: initialize_all_variables (from tensorflow.python.ops.variables) is deprecated and will be removed after 2017-03-02.\n",
      "Instructions for updating:\n",
      "Use `tf.global_variables_initializer` instead.\n",
      "Epoch: 0001 cost= 226.682230314\n",
      "Epoch: 0005 cost= 15.458289240\n",
      "Optimization finished\n",
      "WARNING:tensorflow:From <ipython-input-136-b1595a36c953>:7: initialize_all_variables (from tensorflow.python.ops.variables) is deprecated and will be removed after 2017-03-02.\n",
      "Instructions for updating:\n",
      "Use `tf.global_variables_initializer` instead.\n",
      "Epoch: 0001 cost= 192.310901728\n",
      "Epoch: 0005 cost= 13.062537534\n",
      "Optimization finished\n",
      "WARNING:tensorflow:From <ipython-input-136-b1595a36c953>:7: initialize_all_variables (from tensorflow.python.ops.variables) is deprecated and will be removed after 2017-03-02.\n",
      "Instructions for updating:\n",
      "Use `tf.global_variables_initializer` instead.\n",
      "Epoch: 0001 cost= 186.037396404\n",
      "Epoch: 0005 cost= 13.926826525\n",
      "Optimization finished\n",
      "WARNING:tensorflow:From <ipython-input-136-b1595a36c953>:7: initialize_all_variables (from tensorflow.python.ops.variables) is deprecated and will be removed after 2017-03-02.\n",
      "Instructions for updating:\n",
      "Use `tf.global_variables_initializer` instead.\n",
      "Epoch: 0001 cost= 233.190212599\n",
      "Epoch: 0005 cost= 14.952413155\n",
      "Optimization finished\n",
      "[[array([448, 320]), 0.95160007], [array([448, 256]), 0.94790012], [array([384, 256]), 0.9424001], [array([384, 192]), 0.93650007], [array([320, 256]), 0.9345001]]\n",
      "NEW GENERATION:\n",
      "[[384 320]\n",
      " [384 256]\n",
      " [448 384]\n",
      " [448 320]\n",
      " [512 384]]\n",
      "WARNING:tensorflow:From <ipython-input-136-b1595a36c953>:7: initialize_all_variables (from tensorflow.python.ops.variables) is deprecated and will be removed after 2017-03-02.\n",
      "Instructions for updating:\n",
      "Use `tf.global_variables_initializer` instead.\n",
      "Epoch: 0001 cost= 277.290376522\n",
      "Epoch: 0005 cost= 18.139889214\n",
      "Optimization finished\n",
      "WARNING:tensorflow:From <ipython-input-136-b1595a36c953>:7: initialize_all_variables (from tensorflow.python.ops.variables) is deprecated and will be removed after 2017-03-02.\n",
      "Instructions for updating:\n",
      "Use `tf.global_variables_initializer` instead.\n",
      "Epoch: 0001 cost= 207.011351222\n",
      "Epoch: 0005 cost= 16.622807764\n",
      "Optimization finished\n",
      "WARNING:tensorflow:From <ipython-input-136-b1595a36c953>:7: initialize_all_variables (from tensorflow.python.ops.variables) is deprecated and will be removed after 2017-03-02.\n",
      "Instructions for updating:\n",
      "Use `tf.global_variables_initializer` instead.\n",
      "Epoch: 0001 cost= 288.877011049\n",
      "Epoch: 0005 cost= 17.937313578\n",
      "Optimization finished\n",
      "WARNING:tensorflow:From <ipython-input-136-b1595a36c953>:7: initialize_all_variables (from tensorflow.python.ops.variables) is deprecated and will be removed after 2017-03-02.\n",
      "Instructions for updating:\n",
      "Use `tf.global_variables_initializer` instead.\n",
      "Epoch: 0001 cost= 235.298586932\n",
      "Epoch: 0005 cost= 16.627186504\n",
      "Optimization finished\n",
      "WARNING:tensorflow:From <ipython-input-136-b1595a36c953>:7: initialize_all_variables (from tensorflow.python.ops.variables) is deprecated and will be removed after 2017-03-02.\n",
      "Instructions for updating:\n",
      "Use `tf.global_variables_initializer` instead.\n",
      "Epoch: 0001 cost= 320.436077890\n",
      "Epoch: 0005 cost= 19.192974083\n",
      "Optimization finished\n",
      "[[array([448, 320]), 0.9532001], [array([384, 320]), 0.94930017], [array([448, 384]), 0.94780016], [array([512, 384]), 0.94760007], [array([384, 256]), 0.9417001]]\n",
      "NEW GENERATION:\n",
      "[[448 320]\n",
      " [512 256]\n",
      " [448 384]\n",
      " [384 320]\n",
      " [512 320]]\n",
      "WARNING:tensorflow:From <ipython-input-136-b1595a36c953>:7: initialize_all_variables (from tensorflow.python.ops.variables) is deprecated and will be removed after 2017-03-02.\n",
      "Instructions for updating:\n",
      "Use `tf.global_variables_initializer` instead.\n",
      "Epoch: 0001 cost= 243.277593081\n",
      "Epoch: 0005 cost= 16.825528286\n",
      "Optimization finished\n",
      "WARNING:tensorflow:From <ipython-input-136-b1595a36c953>:7: initialize_all_variables (from tensorflow.python.ops.variables) is deprecated and will be removed after 2017-03-02.\n",
      "Instructions for updating:\n",
      "Use `tf.global_variables_initializer` instead.\n",
      "Epoch: 0001 cost= 233.844433971\n",
      "Epoch: 0005 cost= 15.380896557\n",
      "Optimization finished\n",
      "WARNING:tensorflow:From <ipython-input-136-b1595a36c953>:7: initialize_all_variables (from tensorflow.python.ops.variables) is deprecated and will be removed after 2017-03-02.\n",
      "Instructions for updating:\n",
      "Use `tf.global_variables_initializer` instead.\n",
      "Epoch: 0001 cost= 267.579662032\n",
      "Epoch: 0005 cost= 18.466628633\n",
      "Optimization finished\n",
      "WARNING:tensorflow:From <ipython-input-136-b1595a36c953>:7: initialize_all_variables (from tensorflow.python.ops.variables) is deprecated and will be removed after 2017-03-02.\n",
      "Instructions for updating:\n",
      "Use `tf.global_variables_initializer` instead.\n"
     ]
    },
    {
     "name": "stdout",
     "output_type": "stream",
     "text": [
      "Epoch: 0001 cost= 223.190893632\n",
      "Epoch: 0005 cost= 16.480914658\n",
      "Optimization finished\n",
      "WARNING:tensorflow:From <ipython-input-136-b1595a36c953>:7: initialize_all_variables (from tensorflow.python.ops.variables) is deprecated and will be removed after 2017-03-02.\n",
      "Instructions for updating:\n",
      "Use `tf.global_variables_initializer` instead.\n",
      "Epoch: 0001 cost= 256.730752981\n",
      "Epoch: 0005 cost= 17.347432159\n",
      "Optimization finished\n",
      "[[array([512, 320]), 0.95370007], [array([448, 384]), 0.95130008], [array([448, 320]), 0.94580013], [array([512, 256]), 0.94480014], [array([384, 320]), 0.94380021]]\n",
      "NEW GENERATION:\n",
      "[[512 320]\n",
      " [512 384]\n",
      " [576 320]\n",
      " [448 320]\n",
      " [576 192]]\n",
      "WARNING:tensorflow:From <ipython-input-136-b1595a36c953>:7: initialize_all_variables (from tensorflow.python.ops.variables) is deprecated and will be removed after 2017-03-02.\n",
      "Instructions for updating:\n",
      "Use `tf.global_variables_initializer` instead.\n",
      "Epoch: 0001 cost= 302.401589112\n",
      "Epoch: 0005 cost= 17.531202452\n",
      "Optimization finished\n",
      "WARNING:tensorflow:From <ipython-input-136-b1595a36c953>:7: initialize_all_variables (from tensorflow.python.ops.variables) is deprecated and will be removed after 2017-03-02.\n",
      "Instructions for updating:\n",
      "Use `tf.global_variables_initializer` instead.\n",
      "Epoch: 0001 cost= 273.524985413\n",
      "Epoch: 0005 cost= 18.704649718\n",
      "Optimization finished\n",
      "WARNING:tensorflow:From <ipython-input-136-b1595a36c953>:7: initialize_all_variables (from tensorflow.python.ops.variables) is deprecated and will be removed after 2017-03-02.\n",
      "Instructions for updating:\n",
      "Use `tf.global_variables_initializer` instead.\n",
      "Epoch: 0001 cost= 254.666154598\n",
      "Epoch: 0005 cost= 15.089648181\n",
      "Optimization finished\n",
      "WARNING:tensorflow:From <ipython-input-136-b1595a36c953>:7: initialize_all_variables (from tensorflow.python.ops.variables) is deprecated and will be removed after 2017-03-02.\n",
      "Instructions for updating:\n",
      "Use `tf.global_variables_initializer` instead.\n",
      "Epoch: 0001 cost= 223.358993635\n",
      "Epoch: 0005 cost= 16.224294917\n",
      "Optimization finished\n",
      "WARNING:tensorflow:From <ipython-input-136-b1595a36c953>:7: initialize_all_variables (from tensorflow.python.ops.variables) is deprecated and will be removed after 2017-03-02.\n",
      "Instructions for updating:\n",
      "Use `tf.global_variables_initializer` instead.\n",
      "Epoch: 0001 cost= 235.524672872\n",
      "Epoch: 0005 cost= 13.905237375\n",
      "Optimization finished\n",
      "[[array([576, 320]), 0.95480007], [array([448, 320]), 0.95120013], [array([512, 320]), 0.95120007], [array([512, 384]), 0.94940013], [array([576, 192]), 0.94850016]]\n",
      "NEW GENERATION:\n"
     ]
    }
   ],
   "source": [
    "genetic_algoss_dict=genetic_algo(np.array([[1,1]]),mlp_train)"
   ]
  },
  {
   "cell_type": "code",
   "execution_count": 215,
   "metadata": {},
   "outputs": [
    {
     "data": {
      "text/plain": [
       "[[[array([256, 128]), 0.92280006],\n",
       "  [array([192, 128]), 0.91540015],\n",
       "  [array([128, 128]), 0.91040009],\n",
       "  [array([ 64, 192]), 0.87550014],\n",
       "  [array([128,   0]), 0.097399995]],\n",
       " [[array([256, 192]), 0.93890011],\n",
       "  [array([256, 128]), 0.92990005],\n",
       "  [array([320, 128]), 0.92640013],\n",
       "  [array([192, 192]), 0.92400014],\n",
       "  [array([256,  64]), 0.91640007]],\n",
       " [[array([320, 192]), 0.94080013],\n",
       "  [array([256, 256]), 0.93670011],\n",
       "  [array([256, 192]), 0.93180007],\n",
       "  [array([192, 192]), 0.92560011],\n",
       "  [array([320,  64]), 0.89880008]],\n",
       " [[array([320, 256]), 0.9435001],\n",
       "  [array([320, 192]), 0.93600011],\n",
       "  [array([256, 256]), 0.93470007],\n",
       "  [array([256, 192]), 0.93400007],\n",
       "  [array([320, 128]), 0.92740011]],\n",
       " [[array([384, 256]), 0.94240016],\n",
       "  [array([320, 320]), 0.94190013],\n",
       "  [array([320, 192]), 0.94000006],\n",
       "  [array([320, 256]), 0.93910015],\n",
       "  [array([256, 256]), 0.93160009]],\n",
       " [[array([384, 256]), 0.94590014],\n",
       "  [array([448, 256]), 0.9449001],\n",
       "  [array([384, 192]), 0.93940008],\n",
       "  [array([320, 256]), 0.93920016],\n",
       "  [array([320, 128]), 0.93250012]],\n",
       " [[array([448, 320]), 0.95160007],\n",
       "  [array([448, 256]), 0.94790012],\n",
       "  [array([384, 256]), 0.9424001],\n",
       "  [array([384, 192]), 0.93650007],\n",
       "  [array([320, 256]), 0.9345001]],\n",
       " [[array([448, 320]), 0.9532001],\n",
       "  [array([384, 320]), 0.94930017],\n",
       "  [array([448, 384]), 0.94780016],\n",
       "  [array([512, 384]), 0.94760007],\n",
       "  [array([384, 256]), 0.9417001]],\n",
       " [[array([512, 320]), 0.95370007],\n",
       "  [array([448, 384]), 0.95130008],\n",
       "  [array([448, 320]), 0.94580013],\n",
       "  [array([512, 256]), 0.94480014],\n",
       "  [array([384, 320]), 0.94380021]],\n",
       " [[array([576, 320]), 0.95480007],\n",
       "  [array([448, 320]), 0.95120013],\n",
       "  [array([512, 320]), 0.95120007],\n",
       "  [array([512, 384]), 0.94940013],\n",
       "  [array([576, 192]), 0.94850016]]]"
      ]
     },
     "execution_count": 215,
     "metadata": {},
     "output_type": "execute_result"
    }
   ],
   "source": [
    "genetic_algoss_dict[0]"
   ]
  },
  {
   "cell_type": "code",
   "execution_count": 41,
   "metadata": {
    "collapsed": true
   },
   "outputs": [],
   "source": [
    "pred = mlp(x, weights, biases)"
   ]
  },
  {
   "cell_type": "code",
   "execution_count": 45,
   "metadata": {
    "collapsed": true
   },
   "outputs": [],
   "source": [
    "cost = tf.reduce_mean(tf.nn.softmax_cross_entropy_with_logits(labels=y,logits=pred))\n",
    "optimizer = tf.train.AdamOptimizer(learning_rate=learning_rate).minimize(cost)"
   ]
  },
  {
   "cell_type": "code",
   "execution_count": 46,
   "metadata": {},
   "outputs": [
    {
     "name": "stdout",
     "output_type": "stream",
     "text": [
      "WARNING:tensorflow:From <ipython-input-46-0f50547c66e8>:1: initialize_all_variables (from tensorflow.python.ops.variables) is deprecated and will be removed after 2017-03-02.\n",
      "Instructions for updating:\n",
      "Use `tf.global_variables_initializer` instead.\n"
     ]
    }
   ],
   "source": [
    "init = tf.initialize_all_variables()"
   ]
  },
  {
   "cell_type": "code",
   "execution_count": null,
   "metadata": {
    "collapsed": true
   },
   "outputs": [],
   "source": [
    "#Modify below code to work with my dataset\n",
    "#Get it to predict"
   ]
  },
  {
   "cell_type": "code",
   "execution_count": 49,
   "metadata": {},
   "outputs": [
    {
     "name": "stdout",
     "output_type": "stream",
     "text": [
      "Epoch: 0001 cost= 195.693373934\n",
      "Optimization finished\n",
      "Accuracy: 0.9595\n"
     ]
    }
   ],
   "source": [
    "with tf.Session(config=tf.ConfigProto(log_device_placement=True)) as sess:\n",
    "    sess.run(init)\n",
    "    for epoch in range(training_epochs):\n",
    "        avg_cost=0.\n",
    "        total_batch = int(np.shape(images)[0]/batch_size)\n",
    "        np.random.shuffle(trainlist)\n",
    "        for i in range(total_batch):\n",
    "            batch_x = trainlist[:,1:][i*batch_size:(i+1)*batch_size]\n",
    "            lbl_y = trainlist[:,0][i*batch_size:(i+1)*batch_size]\n",
    "            batch_y = np.zeros((batch_size,10))\n",
    "            batch_y[np.arange(batch_size),lbl_y.astype('int')]=1\n",
    "            _, c = sess.run([optimizer,cost],feed_dict={x:batch_x, y:batch_y})\n",
    "            avg_cost += c / total_batch\n",
    "        if epoch % display_step ==0:\n",
    "            print(\"Epoch:\", '%04d' % (epoch+1),\"cost=\", \"{:.9f}\".format(avg_cost))\n",
    "    print(\"Optimization finished\")\n",
    "    correct_prediction = tf.equal(tf.argmax(pred,1),tf.argmax(y,1))\n",
    "    accuracy = tf.reduce_mean(tf.cast(correct_prediction, \"float\"))\n",
    "    predict=tf.argmax(pred,1)\n",
    "    pred_labels=predict.eval(feed_dict={x: test.as_matrix()})\n",
    "    print(\"Accuracy:\", accuracy.eval({x: mnist.test.images, y: mnist.test.labels}))"
   ]
  },
  {
   "cell_type": "code",
   "execution_count": 50,
   "metadata": {
    "collapsed": true
   },
   "outputs": [],
   "source": [
    "Results['Label']=pred_labels"
   ]
  },
  {
   "cell_type": "code",
   "execution_count": 51,
   "metadata": {
    "collapsed": true
   },
   "outputs": [],
   "source": [
    "Results[['ImageId','Label']].to_csv('NNpred.csv',index=False)"
   ]
  },
  {
   "cell_type": "code",
   "execution_count": 52,
   "metadata": {
    "collapsed": true
   },
   "outputs": [],
   "source": [
    "Results.rename(columns={'Label': 'NNpred'}, inplace=True)"
   ]
  },
  {
   "cell_type": "markdown",
   "metadata": {},
   "source": [
    "Test Predictions were 96.9% correct"
   ]
  },
  {
   "cell_type": "markdown",
   "metadata": {},
   "source": [
    "# TensorFlow CNN"
   ]
  },
  {
   "cell_type": "markdown",
   "metadata": {},
   "source": [
    "fairly brief introduction @ http://www.kdnuggets.com/2015/04/inside-deep-learning-computer-vision-convolutional-neural-networks.html\n",
    "\n",
    "Greater understanding of the convolutional layer in TensorFlow can be found @ http://stackoverflow.com/questions/34619177/what-does-tf-nn-conv2d-do-in-tensorflow\n",
    "\n"
   ]
  },
  {
   "cell_type": "code",
   "execution_count": 261,
   "metadata": {
    "collapsed": true
   },
   "outputs": [],
   "source": [
    "learning_rate = .001\n",
    "training_epochs=10\n",
    "training_iters = 2500 #?\n",
    "batch_size = 50\n",
    "display_step = 1\n",
    "\n",
    "\n",
    "n_input = 784\n",
    "n_classes = 10\n",
    "dropout = .5"
   ]
  },
  {
   "cell_type": "code",
   "execution_count": 262,
   "metadata": {
    "collapsed": true
   },
   "outputs": [],
   "source": [
    "x = tf.placeholder(\"float\", [None, n_input])\n",
    "y = tf.placeholder(\"float\", [None, n_classes])\n",
    "#keep_prob placeholder needed b/c we're doing dropout\n",
    "keep_prob = tf.placeholder(\"float\")"
   ]
  },
  {
   "cell_type": "code",
   "execution_count": 263,
   "metadata": {
    "collapsed": true
   },
   "outputs": [],
   "source": [
    "# define convolutional layer\n",
    "# The changeable values strides correspond to the the stride taken by the filter window each move\n",
    "# Thus default is the filter only takes a stride of 1 each time\n",
    "# This function:\n",
    "    # Runs filter W over x(an image) based on \"strides\" parameters to produce new image\n",
    "    # The new image is created by the dot product between a filter and the collection of pixels the filter currently \"covers\"\n",
    "    # adds bias to the image\n",
    "    # Gives new image to a rectified linear unit(which is an activation function of type f(x) = max(0,x)) \n",
    "    # and returns the output\n",
    "def conv2d(x,W,b,strides=1):\n",
    "    x = tf.nn.conv2d(x,W, strides=[1,strides,strides,1],padding=\"SAME\")\n",
    "    x = tf.nn.bias_add(x,b)\n",
    "    return tf.nn.relu(x)"
   ]
  },
  {
   "cell_type": "code",
   "execution_count": 264,
   "metadata": {
    "collapsed": true
   },
   "outputs": [],
   "source": [
    "# pooling reduces dimensionality\n",
    "# ksize represents size of pooling window and strides represents how much it moves every time\n",
    "# For each stop the pooling window chooses only the max pixel from what it covers, then moves on\n",
    "# Thus this pooling will find the max pixel of the 4(2x2) pixels it looks at each time\n",
    "def maxpool2d(x,k=2):\n",
    "    return tf.nn.max_pool(x, ksize=[1,k,k,1],strides = [1,k,k,1], padding='SAME')"
   ]
  },
  {
   "cell_type": "code",
   "execution_count": 265,
   "metadata": {
    "collapsed": true
   },
   "outputs": [],
   "source": [
    "# Creating Convolutional neural net with 2 Conv. and pooling layers, and A Fully connection layer w/ dropout\n",
    "def conv_net(x, weights, biases, dropout):\n",
    "    #x inputed as a matrix of 1x784 pixels, want to change it to 28x28 pixels\n",
    "    x=tf.reshape(x, shape=[-1,28,28,1]) # Why is this -1?\n",
    "    # First Conv. layer with pooling\n",
    "    conv1 = conv2d(x, weights['wc1'], biases['bc1'])\n",
    "    conv1 = maxpool2d(conv1,k=2)\n",
    "    # Second Conv. layer with pooling\n",
    "    conv2 = conv2d(conv1, weights['wc2'], biases['bc2'])\n",
    "    conv2 = maxpool2d(conv2,k=2)\n",
    "    #Fully-Connected Layer\n",
    "    fc1 = tf.reshape(conv2, [-1,weights['wd1'].get_shape().as_list()[0]])\n",
    "    fc1 = tf.add(tf.matmul(fc1, weights['wd1']), biases['bd1'])\n",
    "    fc1 = tf.nn.relu(fc1)\n",
    "    # Apply Dropout\n",
    "    fc1 = tf.nn.dropout(fc1, dropout)\n",
    "\n",
    "    # Output, class prediction\n",
    "    out = tf.add(tf.matmul(fc1, weights['out']), biases['out'])\n",
    "    return out\n"
   ]
  },
  {
   "cell_type": "code",
   "execution_count": 266,
   "metadata": {
    "collapsed": true
   },
   "outputs": [],
   "source": [
    "weights = {\n",
    "    # 5x5 conv, 1 input, 32 outputs\n",
    "    'wc1': tf.Variable(tf.random_normal([5, 5, 1, 32])),\n",
    "    # 5x5 conv, 32 inputs, 64 outputs\n",
    "    'wc2': tf.Variable(tf.random_normal([5, 5, 32, 64])),\n",
    "    # fully connected, 7*7*64 inputs, 1024 outputs\n",
    "    'wd1': tf.Variable(tf.random_normal([7*7*64, 1024])),\n",
    "    # 1024 inputs, 10 outputs (class prediction)\n",
    "    'out': tf.Variable(tf.random_normal([1024, n_classes]))\n",
    "}"
   ]
  },
  {
   "cell_type": "code",
   "execution_count": 267,
   "metadata": {
    "collapsed": true
   },
   "outputs": [],
   "source": [
    "biases = {\n",
    "    'bc1': tf.Variable(tf.random_normal([32])),\n",
    "    'bc2': tf.Variable(tf.random_normal([64])),\n",
    "    'bd1': tf.Variable(tf.random_normal([1024])),\n",
    "    'out': tf.Variable(tf.random_normal([n_classes]))\n",
    "}"
   ]
  },
  {
   "cell_type": "code",
   "execution_count": 291,
   "metadata": {},
   "outputs": [],
   "source": [
    "def define_cnn_weights(l):\n",
    "    cnv_1,cnv_2,output_1,output_2_scale=l\n",
    "    return {\n",
    "    # 5x5 conv, 1 input, 32 outputs\n",
    "    'wc1': tf.Variable(tf.random_normal([cnv_1, cnv_1, 1, output_1])),\n",
    "    # 5x5 conv, 32 inputs, 64 outputs\n",
    "    'wc2': tf.Variable(tf.random_normal([cnv_2, cnv_2, output_1, output_1*output_2_scale])),\n",
    "    # fully connected, 7*7*64 inputs, 1024 outputs\n",
    "    'wd1': tf.Variable(tf.random_normal([7*7*output_1*output_2_scale, 1024])),\n",
    "    # 1024 inputs, 10 outputs (class prediction)\n",
    "    'out': tf.Variable(tf.random_normal([1024, n_classes]))\n",
    "    }\n",
    "\n",
    "def define_cnn_biases(l):\n",
    "    cnv_1,cnv_2,output_1,output_2_scale=l\n",
    "    return {\n",
    "    'bc1': tf.Variable(tf.random_normal([output_1])),\n",
    "    'bc2': tf.Variable(tf.random_normal([output_1*output_2_scale])),\n",
    "    'bd1': tf.Variable(tf.random_normal([1024])),\n",
    "    'out': tf.Variable(tf.random_normal([n_classes]))\n",
    "    }\n",
    "\n",
    "def cnn_train(l):\n",
    "    weights=define_cnn_weights(l)\n",
    "    biases=define_cnn_biases(l)\n",
    "    print(weights)\n",
    "    print(biases)\n",
    "    pred = conv_net(x,weights,biases,keep_prob)\n",
    "    cost = tf.reduce_mean(tf.nn.softmax_cross_entropy_with_logits(logits=pred, labels=y))\n",
    "    #cost = -tf.reduce_sum(y*tf.log(pred))\n",
    "    optimizer = tf.train.AdamOptimizer(learning_rate=learning_rate).minimize(cost)\n",
    "    correct_pred = tf.equal(tf.argmax(pred, 1), tf.argmax(y, 1))\n",
    "    accuracy = tf.reduce_mean(tf.cast(correct_pred, tf.float32))\n",
    "    init = tf.initialize_all_variables()\n",
    "    with tf.Session(config=tf.ConfigProto(log_device_placement=True)) as sess:\n",
    "        sess.run(init)\n",
    "        for epoch in range(training_epochs):\n",
    "            avg_cost=0\n",
    "            avg_acc=0\n",
    "            # Keep training until reach max iterations\n",
    "            total_batch = int(np.shape(images)[0]/batch_size)\n",
    "            np.random.shuffle(trainlist)\n",
    "            for i in range(total_batch):\n",
    "                batch_x = trainlist[:,1:][i*batch_size:(i+1)*batch_size]\n",
    "                lbl_y = trainlist[:,0][i*batch_size:(i+1)*batch_size]\n",
    "                batch_y = np.zeros((batch_size,10))\n",
    "                batch_y[np.arange(batch_size),lbl_y.astype('int')]=1\n",
    "                # Run optimization op (backprop)\n",
    "                sess.run(optimizer, feed_dict={x: batch_x, y: batch_y,\n",
    "                                               keep_prob: 1.})\n",
    "                if epoch % display_step == 0:\n",
    "                    # Calculate batch loss and accuracy\n",
    "                    loss, acc = sess.run([cost, accuracy], feed_dict={x: batch_x,\n",
    "                                                                      y: batch_y,\n",
    "                                                                      keep_prob: 1.})\n",
    "                    avg_cost += loss / total_batch\n",
    "                    avg_acc += acc / total_batch\n",
    "            if epoch % display_step == 0:\n",
    "                print(\"Iter \" + str(epoch) + \", Minibatch Loss= \" + \\\n",
    "                    \"{:.6f}\".format(avg_cost) + \", Training Accuracy= \" + \\\n",
    "                    \"{:.5f}\".format(avg_acc))\n",
    "    return avg_acc\n",
    "    print(\"Optimization Finished!\")"
   ]
  },
  {
   "cell_type": "code",
   "execution_count": 292,
   "metadata": {},
   "outputs": [
    {
     "name": "stdout",
     "output_type": "stream",
     "text": [
      "[[ 3  3 72  2]\n",
      " [ 3  3 56  2]\n",
      " [ 3  3 64  2]\n",
      " [ 3  3 72  3]\n",
      " [ 3  2 64  3]\n",
      " [ 4  3 64  3]\n",
      " [ 3  3 56  1]\n",
      " [ 4  3 64  2]\n",
      " [ 2  1 64  2]\n",
      " [ 1  3 64  2]]\n",
      "{'wc1': <tf.Variable 'Variable_1557:0' shape=(3, 3, 1, 72) dtype=float32_ref>, 'wc2': <tf.Variable 'Variable_1558:0' shape=(3, 3, 72, 144) dtype=float32_ref>, 'wd1': <tf.Variable 'Variable_1559:0' shape=(7056, 1024) dtype=float32_ref>, 'out': <tf.Variable 'Variable_1560:0' shape=(1024, 10) dtype=float32_ref>}\n",
      "{'bc1': <tf.Variable 'Variable_1561:0' shape=(72,) dtype=float32_ref>, 'bc2': <tf.Variable 'Variable_1562:0' shape=(144,) dtype=float32_ref>, 'bd1': <tf.Variable 'Variable_1563:0' shape=(1024,) dtype=float32_ref>, 'out': <tf.Variable 'Variable_1564:0' shape=(10,) dtype=float32_ref>}\n",
      "WARNING:tensorflow:From <ipython-input-291-0b31c1286971>:34: initialize_all_variables (from tensorflow.python.ops.variables) is deprecated and will be removed after 2017-03-02.\n",
      "Instructions for updating:\n",
      "Use `tf.global_variables_initializer` instead.\n",
      "Iter 0, Minibatch Loss= 1532.242728, Training Accuracy= 0.89481\n",
      "Iter 1, Minibatch Loss= 287.731890, Training Accuracy= 0.96564\n",
      "Iter 2, Minibatch Loss= 145.811196, Training Accuracy= 0.97948\n",
      "Iter 3, Minibatch Loss= 86.060202, Training Accuracy= 0.98690\n",
      "Iter 4, Minibatch Loss= 59.497884, Training Accuracy= 0.98938\n",
      "Iter 5, Minibatch Loss= 38.056386, Training Accuracy= 0.99219\n",
      "Iter 6, Minibatch Loss= 21.673846, Training Accuracy= 0.99467\n",
      "Iter 7, Minibatch Loss= 16.756811, Training Accuracy= 0.99548\n",
      "Iter 8, Minibatch Loss= 12.614379, Training Accuracy= 0.99612\n",
      "Iter 9, Minibatch Loss= 9.375835, Training Accuracy= 0.99707\n",
      "{'wc1': <tf.Variable 'Variable_1565:0' shape=(3, 3, 1, 56) dtype=float32_ref>, 'wc2': <tf.Variable 'Variable_1566:0' shape=(3, 3, 56, 112) dtype=float32_ref>, 'wd1': <tf.Variable 'Variable_1567:0' shape=(5488, 1024) dtype=float32_ref>, 'out': <tf.Variable 'Variable_1568:0' shape=(1024, 10) dtype=float32_ref>}\n",
      "{'bc1': <tf.Variable 'Variable_1569:0' shape=(56,) dtype=float32_ref>, 'bc2': <tf.Variable 'Variable_1570:0' shape=(112,) dtype=float32_ref>, 'bd1': <tf.Variable 'Variable_1571:0' shape=(1024,) dtype=float32_ref>, 'out': <tf.Variable 'Variable_1572:0' shape=(10,) dtype=float32_ref>}\n",
      "WARNING:tensorflow:From <ipython-input-291-0b31c1286971>:34: initialize_all_variables (from tensorflow.python.ops.variables) is deprecated and will be removed after 2017-03-02.\n",
      "Instructions for updating:\n",
      "Use `tf.global_variables_initializer` instead.\n",
      "Iter 0, Minibatch Loss= 1335.672268, Training Accuracy= 0.87407\n",
      "Iter 1, Minibatch Loss= 285.822925, Training Accuracy= 0.95648\n",
      "Iter 2, Minibatch Loss= 149.342371, Training Accuracy= 0.97317\n",
      "Iter 3, Minibatch Loss= 96.174328, Training Accuracy= 0.98140\n",
      "Iter 4, Minibatch Loss= 60.978616, Training Accuracy= 0.98500\n",
      "Iter 5, Minibatch Loss= 39.414756, Training Accuracy= 0.98948\n",
      "Iter 6, Minibatch Loss= 28.850401, Training Accuracy= 0.99100\n",
      "Iter 7, Minibatch Loss= 17.298651, Training Accuracy= 0.99364\n",
      "Iter 8, Minibatch Loss= 12.482688, Training Accuracy= 0.99517\n",
      "Iter 9, Minibatch Loss= 10.282979, Training Accuracy= 0.99569\n",
      "{'wc1': <tf.Variable 'Variable_1573:0' shape=(3, 3, 1, 64) dtype=float32_ref>, 'wc2': <tf.Variable 'Variable_1574:0' shape=(3, 3, 64, 128) dtype=float32_ref>, 'wd1': <tf.Variable 'Variable_1575:0' shape=(6272, 1024) dtype=float32_ref>, 'out': <tf.Variable 'Variable_1576:0' shape=(1024, 10) dtype=float32_ref>}\n",
      "{'bc1': <tf.Variable 'Variable_1577:0' shape=(64,) dtype=float32_ref>, 'bc2': <tf.Variable 'Variable_1578:0' shape=(128,) dtype=float32_ref>, 'bd1': <tf.Variable 'Variable_1579:0' shape=(1024,) dtype=float32_ref>, 'out': <tf.Variable 'Variable_1580:0' shape=(10,) dtype=float32_ref>}\n",
      "WARNING:tensorflow:From <ipython-input-291-0b31c1286971>:34: initialize_all_variables (from tensorflow.python.ops.variables) is deprecated and will be removed after 2017-03-02.\n",
      "Instructions for updating:\n",
      "Use `tf.global_variables_initializer` instead.\n",
      "Iter 0, Minibatch Loss= 1489.580725, Training Accuracy= 0.89117\n",
      "Iter 1, Minibatch Loss= 331.499096, Training Accuracy= 0.96093\n",
      "Iter 2, Minibatch Loss= 164.851380, Training Accuracy= 0.97560\n",
      "Iter 3, Minibatch Loss= 98.979222, Training Accuracy= 0.98321\n",
      "Iter 4, Minibatch Loss= 66.811718, Training Accuracy= 0.98688\n",
      "Iter 5, Minibatch Loss= 45.158836, Training Accuracy= 0.98945\n",
      "Iter 6, Minibatch Loss= 21.732875, Training Accuracy= 0.99381\n",
      "Iter 7, Minibatch Loss= 19.902376, Training Accuracy= 0.99443\n",
      "Iter 8, Minibatch Loss= 14.083246, Training Accuracy= 0.99593\n",
      "Iter 9, Minibatch Loss= 11.692565, Training Accuracy= 0.99640\n",
      "{'wc1': <tf.Variable 'Variable_1581:0' shape=(3, 3, 1, 72) dtype=float32_ref>, 'wc2': <tf.Variable 'Variable_1582:0' shape=(3, 3, 72, 216) dtype=float32_ref>, 'wd1': <tf.Variable 'Variable_1583:0' shape=(10584, 1024) dtype=float32_ref>, 'out': <tf.Variable 'Variable_1584:0' shape=(1024, 10) dtype=float32_ref>}\n",
      "{'bc1': <tf.Variable 'Variable_1585:0' shape=(72,) dtype=float32_ref>, 'bc2': <tf.Variable 'Variable_1586:0' shape=(216,) dtype=float32_ref>, 'bd1': <tf.Variable 'Variable_1587:0' shape=(1024,) dtype=float32_ref>, 'out': <tf.Variable 'Variable_1588:0' shape=(10,) dtype=float32_ref>}\n",
      "WARNING:tensorflow:From <ipython-input-291-0b31c1286971>:34: initialize_all_variables (from tensorflow.python.ops.variables) is deprecated and will be removed after 2017-03-02.\n",
      "Instructions for updating:\n",
      "Use `tf.global_variables_initializer` instead.\n",
      "Iter 0, Minibatch Loss= 1750.302909, Training Accuracy= 0.88567\n",
      "Iter 1, Minibatch Loss= 413.733104, Training Accuracy= 0.95829\n",
      "Iter 2, Minibatch Loss= 234.312251, Training Accuracy= 0.97324\n",
      "Iter 3, Minibatch Loss= 161.243403, Training Accuracy= 0.98076\n",
      "Iter 4, Minibatch Loss= 93.596143, Training Accuracy= 0.98652\n",
      "Iter 5, Minibatch Loss= 74.650075, Training Accuracy= 0.98724\n",
      "Iter 6, Minibatch Loss= 32.342171, Training Accuracy= 0.99317\n",
      "Iter 7, Minibatch Loss= 30.283360, Training Accuracy= 0.99367\n",
      "Iter 8, Minibatch Loss= 17.856107, Training Accuracy= 0.99510\n",
      "Iter 9, Minibatch Loss= 14.410506, Training Accuracy= 0.99562\n",
      "{'wc1': <tf.Variable 'Variable_1589:0' shape=(3, 3, 1, 64) dtype=float32_ref>, 'wc2': <tf.Variable 'Variable_1590:0' shape=(2, 2, 64, 192) dtype=float32_ref>, 'wd1': <tf.Variable 'Variable_1591:0' shape=(9408, 1024) dtype=float32_ref>, 'out': <tf.Variable 'Variable_1592:0' shape=(1024, 10) dtype=float32_ref>}\n",
      "{'bc1': <tf.Variable 'Variable_1593:0' shape=(64,) dtype=float32_ref>, 'bc2': <tf.Variable 'Variable_1594:0' shape=(192,) dtype=float32_ref>, 'bd1': <tf.Variable 'Variable_1595:0' shape=(1024,) dtype=float32_ref>, 'out': <tf.Variable 'Variable_1596:0' shape=(10,) dtype=float32_ref>}\n",
      "WARNING:tensorflow:From <ipython-input-291-0b31c1286971>:34: initialize_all_variables (from tensorflow.python.ops.variables) is deprecated and will be removed after 2017-03-02.\n",
      "Instructions for updating:\n",
      "Use `tf.global_variables_initializer` instead.\n",
      "Iter 0, Minibatch Loss= 1359.713503, Training Accuracy= 0.87690\n",
      "Iter 1, Minibatch Loss= 336.050814, Training Accuracy= 0.95319\n",
      "Iter 2, Minibatch Loss= 212.062513, Training Accuracy= 0.96926\n",
      "Iter 3, Minibatch Loss= 130.012010, Training Accuracy= 0.97764\n",
      "Iter 4, Minibatch Loss= 98.412423, Training Accuracy= 0.98162\n",
      "Iter 5, Minibatch Loss= 59.766503, Training Accuracy= 0.98695\n",
      "Iter 6, Minibatch Loss= 38.570326, Training Accuracy= 0.99000\n",
      "Iter 7, Minibatch Loss= 28.649365, Training Accuracy= 0.99181\n",
      "Iter 8, Minibatch Loss= 18.048686, Training Accuracy= 0.99414\n",
      "Iter 9, Minibatch Loss= 16.302062, Training Accuracy= 0.99457\n",
      "{'wc1': <tf.Variable 'Variable_1597:0' shape=(4, 4, 1, 64) dtype=float32_ref>, 'wc2': <tf.Variable 'Variable_1598:0' shape=(3, 3, 64, 192) dtype=float32_ref>, 'wd1': <tf.Variable 'Variable_1599:0' shape=(9408, 1024) dtype=float32_ref>, 'out': <tf.Variable 'Variable_1600:0' shape=(1024, 10) dtype=float32_ref>}\n",
      "{'bc1': <tf.Variable 'Variable_1601:0' shape=(64,) dtype=float32_ref>, 'bc2': <tf.Variable 'Variable_1602:0' shape=(192,) dtype=float32_ref>, 'bd1': <tf.Variable 'Variable_1603:0' shape=(1024,) dtype=float32_ref>, 'out': <tf.Variable 'Variable_1604:0' shape=(10,) dtype=float32_ref>}\n",
      "WARNING:tensorflow:From <ipython-input-291-0b31c1286971>:34: initialize_all_variables (from tensorflow.python.ops.variables) is deprecated and will be removed after 2017-03-02.\n",
      "Instructions for updating:\n",
      "Use `tf.global_variables_initializer` instead.\n"
     ]
    },
    {
     "name": "stdout",
     "output_type": "stream",
     "text": [
      "Iter 0, Minibatch Loss= 2699.211089, Training Accuracy= 0.89290\n",
      "Iter 1, Minibatch Loss= 421.937744, Training Accuracy= 0.96636\n",
      "Iter 2, Minibatch Loss= 228.860254, Training Accuracy= 0.97862\n",
      "Iter 3, Minibatch Loss= 151.371959, Training Accuracy= 0.98426\n",
      "Iter 4, Minibatch Loss= 85.476913, Training Accuracy= 0.98974\n",
      "Iter 5, Minibatch Loss= 62.784517, Training Accuracy= 0.99133\n",
      "Iter 6, Minibatch Loss= 32.953254, Training Accuracy= 0.99452\n",
      "Iter 7, Minibatch Loss= 23.298236, Training Accuracy= 0.99583\n",
      "Iter 8, Minibatch Loss= 17.967513, Training Accuracy= 0.99631\n",
      "Iter 9, Minibatch Loss= 12.850803, Training Accuracy= 0.99669\n",
      "{'wc1': <tf.Variable 'Variable_1605:0' shape=(3, 3, 1, 56) dtype=float32_ref>, 'wc2': <tf.Variable 'Variable_1606:0' shape=(3, 3, 56, 56) dtype=float32_ref>, 'wd1': <tf.Variable 'Variable_1607:0' shape=(2744, 1024) dtype=float32_ref>, 'out': <tf.Variable 'Variable_1608:0' shape=(1024, 10) dtype=float32_ref>}\n",
      "{'bc1': <tf.Variable 'Variable_1609:0' shape=(56,) dtype=float32_ref>, 'bc2': <tf.Variable 'Variable_1610:0' shape=(56,) dtype=float32_ref>, 'bd1': <tf.Variable 'Variable_1611:0' shape=(1024,) dtype=float32_ref>, 'out': <tf.Variable 'Variable_1612:0' shape=(10,) dtype=float32_ref>}\n",
      "WARNING:tensorflow:From <ipython-input-291-0b31c1286971>:34: initialize_all_variables (from tensorflow.python.ops.variables) is deprecated and will be removed after 2017-03-02.\n",
      "Instructions for updating:\n",
      "Use `tf.global_variables_initializer` instead.\n",
      "Iter 0, Minibatch Loss= 986.104644, Training Accuracy= 0.87857\n",
      "Iter 1, Minibatch Loss= 173.883681, Training Accuracy= 0.96043\n",
      "Iter 2, Minibatch Loss= 97.774973, Training Accuracy= 0.97400\n",
      "Iter 3, Minibatch Loss= 56.282389, Training Accuracy= 0.98112\n",
      "Iter 4, Minibatch Loss= 35.599424, Training Accuracy= 0.98652\n",
      "Iter 5, Minibatch Loss= 25.756919, Training Accuracy= 0.98969\n",
      "Iter 6, Minibatch Loss= 16.124089, Training Accuracy= 0.99300\n",
      "Iter 7, Minibatch Loss= 11.770516, Training Accuracy= 0.99364\n",
      "Iter 8, Minibatch Loss= 9.009340, Training Accuracy= 0.99521\n",
      "Iter 9, Minibatch Loss= 7.597176, Training Accuracy= 0.99605\n",
      "{'wc1': <tf.Variable 'Variable_1613:0' shape=(4, 4, 1, 64) dtype=float32_ref>, 'wc2': <tf.Variable 'Variable_1614:0' shape=(3, 3, 64, 128) dtype=float32_ref>, 'wd1': <tf.Variable 'Variable_1615:0' shape=(6272, 1024) dtype=float32_ref>, 'out': <tf.Variable 'Variable_1616:0' shape=(1024, 10) dtype=float32_ref>}\n",
      "{'bc1': <tf.Variable 'Variable_1617:0' shape=(64,) dtype=float32_ref>, 'bc2': <tf.Variable 'Variable_1618:0' shape=(128,) dtype=float32_ref>, 'bd1': <tf.Variable 'Variable_1619:0' shape=(1024,) dtype=float32_ref>, 'out': <tf.Variable 'Variable_1620:0' shape=(10,) dtype=float32_ref>}\n",
      "WARNING:tensorflow:From <ipython-input-291-0b31c1286971>:34: initialize_all_variables (from tensorflow.python.ops.variables) is deprecated and will be removed after 2017-03-02.\n",
      "Instructions for updating:\n",
      "Use `tf.global_variables_initializer` instead.\n",
      "Iter 0, Minibatch Loss= 1693.045399, Training Accuracy= 0.89143\n",
      "Iter 1, Minibatch Loss= 304.773779, Training Accuracy= 0.96595\n",
      "Iter 2, Minibatch Loss= 168.780027, Training Accuracy= 0.97776\n",
      "Iter 3, Minibatch Loss= 103.249011, Training Accuracy= 0.98433\n",
      "Iter 4, Minibatch Loss= 63.182483, Training Accuracy= 0.98888\n",
      "Iter 5, Minibatch Loss= 39.737149, Training Accuracy= 0.99226\n",
      "Iter 6, Minibatch Loss= 32.159198, Training Accuracy= 0.99310\n",
      "Iter 7, Minibatch Loss= 19.199336, Training Accuracy= 0.99531\n",
      "Iter 8, Minibatch Loss= 15.783038, Training Accuracy= 0.99569\n",
      "Iter 9, Minibatch Loss= 13.497351, Training Accuracy= 0.99679\n",
      "{'wc1': <tf.Variable 'Variable_1621:0' shape=(2, 2, 1, 64) dtype=float32_ref>, 'wc2': <tf.Variable 'Variable_1622:0' shape=(1, 1, 64, 128) dtype=float32_ref>, 'wd1': <tf.Variable 'Variable_1623:0' shape=(6272, 1024) dtype=float32_ref>, 'out': <tf.Variable 'Variable_1624:0' shape=(1024, 10) dtype=float32_ref>}\n",
      "{'bc1': <tf.Variable 'Variable_1625:0' shape=(64,) dtype=float32_ref>, 'bc2': <tf.Variable 'Variable_1626:0' shape=(128,) dtype=float32_ref>, 'bd1': <tf.Variable 'Variable_1627:0' shape=(1024,) dtype=float32_ref>, 'out': <tf.Variable 'Variable_1628:0' shape=(10,) dtype=float32_ref>}\n",
      "WARNING:tensorflow:From <ipython-input-291-0b31c1286971>:34: initialize_all_variables (from tensorflow.python.ops.variables) is deprecated and will be removed after 2017-03-02.\n",
      "Instructions for updating:\n",
      "Use `tf.global_variables_initializer` instead.\n",
      "Iter 0, Minibatch Loss= 531.116766, Training Accuracy= 0.81995\n",
      "Iter 1, Minibatch Loss= 118.171962, Training Accuracy= 0.92610\n",
      "Iter 2, Minibatch Loss= 72.607822, Training Accuracy= 0.94840\n",
      "Iter 3, Minibatch Loss= 52.913579, Training Accuracy= 0.95983\n",
      "Iter 4, Minibatch Loss= 38.739622, Training Accuracy= 0.96776\n",
      "Iter 5, Minibatch Loss= 24.908620, Training Accuracy= 0.97648\n",
      "Iter 6, Minibatch Loss= 19.867086, Training Accuracy= 0.97948\n",
      "Iter 7, Minibatch Loss= 14.947533, Training Accuracy= 0.98307\n",
      "Iter 8, Minibatch Loss= 11.766191, Training Accuracy= 0.98460\n",
      "Iter 9, Minibatch Loss= 7.059563, Training Accuracy= 0.98907\n",
      "{'wc1': <tf.Variable 'Variable_1629:0' shape=(1, 1, 1, 64) dtype=float32_ref>, 'wc2': <tf.Variable 'Variable_1630:0' shape=(3, 3, 64, 128) dtype=float32_ref>, 'wd1': <tf.Variable 'Variable_1631:0' shape=(6272, 1024) dtype=float32_ref>, 'out': <tf.Variable 'Variable_1632:0' shape=(1024, 10) dtype=float32_ref>}\n",
      "{'bc1': <tf.Variable 'Variable_1633:0' shape=(64,) dtype=float32_ref>, 'bc2': <tf.Variable 'Variable_1634:0' shape=(128,) dtype=float32_ref>, 'bd1': <tf.Variable 'Variable_1635:0' shape=(1024,) dtype=float32_ref>, 'out': <tf.Variable 'Variable_1636:0' shape=(10,) dtype=float32_ref>}\n",
      "WARNING:tensorflow:From <ipython-input-291-0b31c1286971>:34: initialize_all_variables (from tensorflow.python.ops.variables) is deprecated and will be removed after 2017-03-02.\n",
      "Instructions for updating:\n",
      "Use `tf.global_variables_initializer` instead.\n",
      "Iter 0, Minibatch Loss= 778.491421, Training Accuracy= 0.82612\n",
      "Iter 1, Minibatch Loss= 217.980122, Training Accuracy= 0.93021\n",
      "Iter 2, Minibatch Loss= 143.821974, Training Accuracy= 0.94914\n",
      "Iter 3, Minibatch Loss= 93.675667, Training Accuracy= 0.96326\n",
      "Iter 4, Minibatch Loss= 70.012916, Training Accuracy= 0.96919\n",
      "Iter 5, Minibatch Loss= 52.826639, Training Accuracy= 0.97417\n",
      "Iter 6, Minibatch Loss= 34.542390, Training Accuracy= 0.97938\n",
      "Iter 7, Minibatch Loss= 27.424776, Training Accuracy= 0.98181\n",
      "Iter 8, Minibatch Loss= 18.686565, Training Accuracy= 0.98483\n",
      "Iter 9, Minibatch Loss= 14.694698, Training Accuracy= 0.98693\n",
      "[[array([ 3,  3, 72,  2]), 0.99707142817122052], [array([ 4,  3, 64,  2]), 0.99678571437085883], [array([ 4,  3, 64,  3]), 0.99669047601165706], [array([ 3,  3, 64,  2]), 0.99640476100501107], [array([ 3,  3, 56,  1]), 0.99604761912708739], [array([ 3,  3, 56,  2]), 0.99569047526234122], [array([ 3,  3, 72,  3]), 0.99561904796531686], [array([ 3,  2, 64,  3]), 0.99457142856858538], [array([ 2,  1, 64,  2]), 0.98907142792428637], [array([ 1,  3, 64,  2]), 0.98692857019957481]]\n",
      "NEW GENERATION:\n",
      "[[ 3  1 72  1]\n",
      " [ 3  2 72  2]\n",
      " [ 3  3 80  2]\n",
      " [ 4  3 72  2]\n",
      " [ 3  3 64  3]\n",
      " [ 3  3 72  2]\n",
      " [ 3  4 80  2]\n",
      " [ 3  4 80  1]\n",
      " [ 3  1 72  2]\n",
      " [ 2  3 72  2]]\n",
      "{'wc1': <tf.Variable 'Variable_1637:0' shape=(3, 3, 1, 72) dtype=float32_ref>, 'wc2': <tf.Variable 'Variable_1638:0' shape=(1, 1, 72, 72) dtype=float32_ref>, 'wd1': <tf.Variable 'Variable_1639:0' shape=(3528, 1024) dtype=float32_ref>, 'out': <tf.Variable 'Variable_1640:0' shape=(1024, 10) dtype=float32_ref>}\n",
      "{'bc1': <tf.Variable 'Variable_1641:0' shape=(72,) dtype=float32_ref>, 'bc2': <tf.Variable 'Variable_1642:0' shape=(72,) dtype=float32_ref>, 'bd1': <tf.Variable 'Variable_1643:0' shape=(1024,) dtype=float32_ref>, 'out': <tf.Variable 'Variable_1644:0' shape=(10,) dtype=float32_ref>}\n",
      "WARNING:tensorflow:From <ipython-input-291-0b31c1286971>:34: initialize_all_variables (from tensorflow.python.ops.variables) is deprecated and will be removed after 2017-03-02.\n",
      "Instructions for updating:\n",
      "Use `tf.global_variables_initializer` instead.\n",
      "Iter 0, Minibatch Loss= 482.460264, Training Accuracy= 0.85421\n",
      "Iter 1, Minibatch Loss= 100.191659, Training Accuracy= 0.94881\n",
      "Iter 2, Minibatch Loss= 56.478112, Training Accuracy= 0.96655\n",
      "Iter 3, Minibatch Loss= 37.746532, Training Accuracy= 0.97514\n"
     ]
    },
    {
     "name": "stdout",
     "output_type": "stream",
     "text": [
      "Iter 4, Minibatch Loss= 23.537216, Training Accuracy= 0.98219\n",
      "Iter 5, Minibatch Loss= 16.685421, Training Accuracy= 0.98560\n",
      "Iter 6, Minibatch Loss= 12.476575, Training Accuracy= 0.98831\n",
      "Iter 7, Minibatch Loss= 9.074504, Training Accuracy= 0.99033\n",
      "Iter 8, Minibatch Loss= 6.214522, Training Accuracy= 0.99224\n",
      "Iter 9, Minibatch Loss= 4.219668, Training Accuracy= 0.99469\n",
      "{'wc1': <tf.Variable 'Variable_1645:0' shape=(3, 3, 1, 72) dtype=float32_ref>, 'wc2': <tf.Variable 'Variable_1646:0' shape=(2, 2, 72, 144) dtype=float32_ref>, 'wd1': <tf.Variable 'Variable_1647:0' shape=(7056, 1024) dtype=float32_ref>, 'out': <tf.Variable 'Variable_1648:0' shape=(1024, 10) dtype=float32_ref>}\n",
      "{'bc1': <tf.Variable 'Variable_1649:0' shape=(72,) dtype=float32_ref>, 'bc2': <tf.Variable 'Variable_1650:0' shape=(144,) dtype=float32_ref>, 'bd1': <tf.Variable 'Variable_1651:0' shape=(1024,) dtype=float32_ref>, 'out': <tf.Variable 'Variable_1652:0' shape=(10,) dtype=float32_ref>}\n",
      "WARNING:tensorflow:From <ipython-input-291-0b31c1286971>:34: initialize_all_variables (from tensorflow.python.ops.variables) is deprecated and will be removed after 2017-03-02.\n",
      "Instructions for updating:\n",
      "Use `tf.global_variables_initializer` instead.\n",
      "Iter 0, Minibatch Loss= 1020.792700, Training Accuracy= 0.88895\n",
      "Iter 1, Minibatch Loss= 236.687087, Training Accuracy= 0.96167\n",
      "Iter 2, Minibatch Loss= 119.452315, Training Accuracy= 0.97676\n",
      "Iter 3, Minibatch Loss= 66.923250, Training Accuracy= 0.98345\n",
      "Iter 4, Minibatch Loss= 49.175231, Training Accuracy= 0.98717\n",
      "Iter 5, Minibatch Loss= 25.760705, Training Accuracy= 0.99105\n",
      "Iter 6, Minibatch Loss= 17.034654, Training Accuracy= 0.99405\n",
      "Iter 7, Minibatch Loss= 14.391745, Training Accuracy= 0.99474\n",
      "Iter 8, Minibatch Loss= 8.957538, Training Accuracy= 0.99548\n",
      "Iter 9, Minibatch Loss= 6.416866, Training Accuracy= 0.99690\n",
      "{'wc1': <tf.Variable 'Variable_1653:0' shape=(3, 3, 1, 80) dtype=float32_ref>, 'wc2': <tf.Variable 'Variable_1654:0' shape=(3, 3, 80, 160) dtype=float32_ref>, 'wd1': <tf.Variable 'Variable_1655:0' shape=(7840, 1024) dtype=float32_ref>, 'out': <tf.Variable 'Variable_1656:0' shape=(1024, 10) dtype=float32_ref>}\n",
      "{'bc1': <tf.Variable 'Variable_1657:0' shape=(80,) dtype=float32_ref>, 'bc2': <tf.Variable 'Variable_1658:0' shape=(160,) dtype=float32_ref>, 'bd1': <tf.Variable 'Variable_1659:0' shape=(1024,) dtype=float32_ref>, 'out': <tf.Variable 'Variable_1660:0' shape=(10,) dtype=float32_ref>}\n",
      "WARNING:tensorflow:From <ipython-input-291-0b31c1286971>:34: initialize_all_variables (from tensorflow.python.ops.variables) is deprecated and will be removed after 2017-03-02.\n",
      "Instructions for updating:\n",
      "Use `tf.global_variables_initializer` instead.\n",
      "Iter 0, Minibatch Loss= 1786.823401, Training Accuracy= 0.88907\n",
      "Iter 1, Minibatch Loss= 354.347382, Training Accuracy= 0.96307\n",
      "Iter 2, Minibatch Loss= 192.946981, Training Accuracy= 0.97619\n",
      "Iter 3, Minibatch Loss= 112.982744, Training Accuracy= 0.98386\n",
      "Iter 4, Minibatch Loss= 68.338108, Training Accuracy= 0.98902\n",
      "Iter 5, Minibatch Loss= 46.449902, Training Accuracy= 0.99071\n",
      "Iter 6, Minibatch Loss= 29.864009, Training Accuracy= 0.99340\n",
      "Iter 7, Minibatch Loss= 21.602185, Training Accuracy= 0.99495\n",
      "Iter 8, Minibatch Loss= 13.304375, Training Accuracy= 0.99590\n",
      "Iter 9, Minibatch Loss= 11.267192, Training Accuracy= 0.99638\n",
      "{'wc1': <tf.Variable 'Variable_1661:0' shape=(4, 4, 1, 72) dtype=float32_ref>, 'wc2': <tf.Variable 'Variable_1662:0' shape=(3, 3, 72, 144) dtype=float32_ref>, 'wd1': <tf.Variable 'Variable_1663:0' shape=(7056, 1024) dtype=float32_ref>, 'out': <tf.Variable 'Variable_1664:0' shape=(1024, 10) dtype=float32_ref>}\n",
      "{'bc1': <tf.Variable 'Variable_1665:0' shape=(72,) dtype=float32_ref>, 'bc2': <tf.Variable 'Variable_1666:0' shape=(144,) dtype=float32_ref>, 'bd1': <tf.Variable 'Variable_1667:0' shape=(1024,) dtype=float32_ref>, 'out': <tf.Variable 'Variable_1668:0' shape=(10,) dtype=float32_ref>}\n",
      "WARNING:tensorflow:From <ipython-input-291-0b31c1286971>:34: initialize_all_variables (from tensorflow.python.ops.variables) is deprecated and will be removed after 2017-03-02.\n",
      "Instructions for updating:\n",
      "Use `tf.global_variables_initializer` instead.\n",
      "Iter 0, Minibatch Loss= 1980.031763, Training Accuracy= 0.89681\n",
      "Iter 1, Minibatch Loss= 459.505504, Training Accuracy= 0.96379\n",
      "Iter 2, Minibatch Loss= 238.067856, Training Accuracy= 0.97817\n",
      "Iter 3, Minibatch Loss= 147.204560, Training Accuracy= 0.98398\n",
      "Iter 4, Minibatch Loss= 92.599660, Training Accuracy= 0.98840\n",
      "Iter 5, Minibatch Loss= 51.163489, Training Accuracy= 0.99233\n",
      "Iter 6, Minibatch Loss= 38.553964, Training Accuracy= 0.99362\n",
      "Iter 7, Minibatch Loss= 32.807959, Training Accuracy= 0.99431\n",
      "Iter 8, Minibatch Loss= 19.755496, Training Accuracy= 0.99586\n",
      "Iter 9, Minibatch Loss= 15.525241, Training Accuracy= 0.99667\n",
      "{'wc1': <tf.Variable 'Variable_1669:0' shape=(3, 3, 1, 64) dtype=float32_ref>, 'wc2': <tf.Variable 'Variable_1670:0' shape=(3, 3, 64, 192) dtype=float32_ref>, 'wd1': <tf.Variable 'Variable_1671:0' shape=(9408, 1024) dtype=float32_ref>, 'out': <tf.Variable 'Variable_1672:0' shape=(1024, 10) dtype=float32_ref>}\n",
      "{'bc1': <tf.Variable 'Variable_1673:0' shape=(64,) dtype=float32_ref>, 'bc2': <tf.Variable 'Variable_1674:0' shape=(192,) dtype=float32_ref>, 'bd1': <tf.Variable 'Variable_1675:0' shape=(1024,) dtype=float32_ref>, 'out': <tf.Variable 'Variable_1676:0' shape=(10,) dtype=float32_ref>}\n",
      "WARNING:tensorflow:From <ipython-input-291-0b31c1286971>:34: initialize_all_variables (from tensorflow.python.ops.variables) is deprecated and will be removed after 2017-03-02.\n",
      "Instructions for updating:\n",
      "Use `tf.global_variables_initializer` instead.\n",
      "Iter 0, Minibatch Loss= 1834.112824, Training Accuracy= 0.89686\n",
      "Iter 1, Minibatch Loss= 423.628487, Training Accuracy= 0.96176\n",
      "Iter 2, Minibatch Loss= 221.521862, Training Accuracy= 0.97748\n",
      "Iter 3, Minibatch Loss= 139.477344, Training Accuracy= 0.98293\n",
      "Iter 4, Minibatch Loss= 92.006711, Training Accuracy= 0.98752\n",
      "Iter 5, Minibatch Loss= 57.942658, Training Accuracy= 0.99064\n",
      "Iter 6, Minibatch Loss= 37.936575, Training Accuracy= 0.99314\n",
      "Iter 7, Minibatch Loss= 24.766481, Training Accuracy= 0.99402\n",
      "Iter 8, Minibatch Loss= 19.321663, Training Accuracy= 0.99543\n",
      "Iter 9, Minibatch Loss= 12.648766, Training Accuracy= 0.99664\n",
      "{'wc1': <tf.Variable 'Variable_1677:0' shape=(3, 3, 1, 72) dtype=float32_ref>, 'wc2': <tf.Variable 'Variable_1678:0' shape=(3, 3, 72, 144) dtype=float32_ref>, 'wd1': <tf.Variable 'Variable_1679:0' shape=(7056, 1024) dtype=float32_ref>, 'out': <tf.Variable 'Variable_1680:0' shape=(1024, 10) dtype=float32_ref>}\n",
      "{'bc1': <tf.Variable 'Variable_1681:0' shape=(72,) dtype=float32_ref>, 'bc2': <tf.Variable 'Variable_1682:0' shape=(144,) dtype=float32_ref>, 'bd1': <tf.Variable 'Variable_1683:0' shape=(1024,) dtype=float32_ref>, 'out': <tf.Variable 'Variable_1684:0' shape=(10,) dtype=float32_ref>}\n",
      "WARNING:tensorflow:From <ipython-input-291-0b31c1286971>:34: initialize_all_variables (from tensorflow.python.ops.variables) is deprecated and will be removed after 2017-03-02.\n",
      "Instructions for updating:\n",
      "Use `tf.global_variables_initializer` instead.\n",
      "Iter 0, Minibatch Loss= 1522.051857, Training Accuracy= 0.88788\n",
      "Iter 1, Minibatch Loss= 331.115526, Training Accuracy= 0.96305\n",
      "Iter 2, Minibatch Loss= 185.923933, Training Accuracy= 0.97538\n",
      "Iter 3, Minibatch Loss= 109.616966, Training Accuracy= 0.98312\n",
      "Iter 4, Minibatch Loss= 73.141203, Training Accuracy= 0.98714\n",
      "Iter 5, Minibatch Loss= 51.650327, Training Accuracy= 0.98993\n",
      "Iter 6, Minibatch Loss= 29.278834, Training Accuracy= 0.99307\n",
      "Iter 7, Minibatch Loss= 19.944686, Training Accuracy= 0.99426\n",
      "Iter 8, Minibatch Loss= 16.526511, Training Accuracy= 0.99526\n",
      "Iter 9, Minibatch Loss= 9.536258, Training Accuracy= 0.99681\n",
      "{'wc1': <tf.Variable 'Variable_1685:0' shape=(3, 3, 1, 80) dtype=float32_ref>, 'wc2': <tf.Variable 'Variable_1686:0' shape=(4, 4, 80, 160) dtype=float32_ref>, 'wd1': <tf.Variable 'Variable_1687:0' shape=(7840, 1024) dtype=float32_ref>, 'out': <tf.Variable 'Variable_1688:0' shape=(1024, 10) dtype=float32_ref>}\n",
      "{'bc1': <tf.Variable 'Variable_1689:0' shape=(80,) dtype=float32_ref>, 'bc2': <tf.Variable 'Variable_1690:0' shape=(160,) dtype=float32_ref>, 'bd1': <tf.Variable 'Variable_1691:0' shape=(1024,) dtype=float32_ref>, 'out': <tf.Variable 'Variable_1692:0' shape=(10,) dtype=float32_ref>}\n"
     ]
    },
    {
     "name": "stdout",
     "output_type": "stream",
     "text": [
      "WARNING:tensorflow:From <ipython-input-291-0b31c1286971>:34: initialize_all_variables (from tensorflow.python.ops.variables) is deprecated and will be removed after 2017-03-02.\n",
      "Instructions for updating:\n",
      "Use `tf.global_variables_initializer` instead.\n",
      "Iter 0, Minibatch Loss= 2162.998972, Training Accuracy= 0.89988\n",
      "Iter 1, Minibatch Loss= 450.702773, Training Accuracy= 0.96645\n",
      "Iter 2, Minibatch Loss= 271.363778, Training Accuracy= 0.97769\n",
      "Iter 3, Minibatch Loss= 146.790180, Training Accuracy= 0.98481\n",
      "Iter 4, Minibatch Loss= 95.195174, Training Accuracy= 0.98900\n",
      "Iter 5, Minibatch Loss= 58.829994, Training Accuracy= 0.99129\n",
      "Iter 6, Minibatch Loss= 32.960635, Training Accuracy= 0.99431\n",
      "Iter 7, Minibatch Loss= 26.238639, Training Accuracy= 0.99555\n",
      "Iter 8, Minibatch Loss= 20.491128, Training Accuracy= 0.99626\n",
      "Iter 9, Minibatch Loss= 15.433754, Training Accuracy= 0.99683\n",
      "{'wc1': <tf.Variable 'Variable_1693:0' shape=(3, 3, 1, 80) dtype=float32_ref>, 'wc2': <tf.Variable 'Variable_1694:0' shape=(4, 4, 80, 80) dtype=float32_ref>, 'wd1': <tf.Variable 'Variable_1695:0' shape=(3920, 1024) dtype=float32_ref>, 'out': <tf.Variable 'Variable_1696:0' shape=(1024, 10) dtype=float32_ref>}\n",
      "{'bc1': <tf.Variable 'Variable_1697:0' shape=(80,) dtype=float32_ref>, 'bc2': <tf.Variable 'Variable_1698:0' shape=(80,) dtype=float32_ref>, 'bd1': <tf.Variable 'Variable_1699:0' shape=(1024,) dtype=float32_ref>, 'out': <tf.Variable 'Variable_1700:0' shape=(10,) dtype=float32_ref>}\n",
      "WARNING:tensorflow:From <ipython-input-291-0b31c1286971>:34: initialize_all_variables (from tensorflow.python.ops.variables) is deprecated and will be removed after 2017-03-02.\n",
      "Instructions for updating:\n",
      "Use `tf.global_variables_initializer` instead.\n",
      "Iter 0, Minibatch Loss= 1788.358318, Training Accuracy= 0.88581\n",
      "Iter 1, Minibatch Loss= 352.133198, Training Accuracy= 0.96143\n",
      "Iter 2, Minibatch Loss= 191.285599, Training Accuracy= 0.97469\n",
      "Iter 3, Minibatch Loss= 110.224893, Training Accuracy= 0.98271\n",
      "Iter 4, Minibatch Loss= 67.968999, Training Accuracy= 0.98743\n",
      "Iter 5, Minibatch Loss= 45.691911, Training Accuracy= 0.99145\n",
      "Iter 6, Minibatch Loss= 27.893414, Training Accuracy= 0.99324\n",
      "Iter 7, Minibatch Loss= 22.785654, Training Accuracy= 0.99402\n",
      "Iter 8, Minibatch Loss= 16.341012, Training Accuracy= 0.99529\n",
      "Iter 9, Minibatch Loss= 12.830468, Training Accuracy= 0.99629\n",
      "{'wc1': <tf.Variable 'Variable_1701:0' shape=(3, 3, 1, 72) dtype=float32_ref>, 'wc2': <tf.Variable 'Variable_1702:0' shape=(1, 1, 72, 144) dtype=float32_ref>, 'wd1': <tf.Variable 'Variable_1703:0' shape=(7056, 1024) dtype=float32_ref>, 'out': <tf.Variable 'Variable_1704:0' shape=(1024, 10) dtype=float32_ref>}\n",
      "{'bc1': <tf.Variable 'Variable_1705:0' shape=(72,) dtype=float32_ref>, 'bc2': <tf.Variable 'Variable_1706:0' shape=(144,) dtype=float32_ref>, 'bd1': <tf.Variable 'Variable_1707:0' shape=(1024,) dtype=float32_ref>, 'out': <tf.Variable 'Variable_1708:0' shape=(10,) dtype=float32_ref>}\n",
      "WARNING:tensorflow:From <ipython-input-291-0b31c1286971>:34: initialize_all_variables (from tensorflow.python.ops.variables) is deprecated and will be removed after 2017-03-02.\n",
      "Instructions for updating:\n",
      "Use `tf.global_variables_initializer` instead.\n",
      "Iter 0, Minibatch Loss= 611.229015, Training Accuracy= 0.86914\n",
      "Iter 1, Minibatch Loss= 115.039273, Training Accuracy= 0.95464\n",
      "Iter 2, Minibatch Loss= 70.454782, Training Accuracy= 0.96967\n",
      "Iter 3, Minibatch Loss= 51.312728, Training Accuracy= 0.97579\n",
      "Iter 4, Minibatch Loss= 33.815545, Training Accuracy= 0.98307\n",
      "Iter 5, Minibatch Loss= 20.136377, Training Accuracy= 0.98821\n",
      "Iter 6, Minibatch Loss= 16.178188, Training Accuracy= 0.98914\n",
      "Iter 7, Minibatch Loss= 9.244694, Training Accuracy= 0.99250\n",
      "Iter 8, Minibatch Loss= 7.490591, Training Accuracy= 0.99376\n",
      "Iter 9, Minibatch Loss= 6.108214, Training Accuracy= 0.99481\n",
      "{'wc1': <tf.Variable 'Variable_1709:0' shape=(2, 2, 1, 72) dtype=float32_ref>, 'wc2': <tf.Variable 'Variable_1710:0' shape=(3, 3, 72, 144) dtype=float32_ref>, 'wd1': <tf.Variable 'Variable_1711:0' shape=(7056, 1024) dtype=float32_ref>, 'out': <tf.Variable 'Variable_1712:0' shape=(1024, 10) dtype=float32_ref>}\n",
      "{'bc1': <tf.Variable 'Variable_1713:0' shape=(72,) dtype=float32_ref>, 'bc2': <tf.Variable 'Variable_1714:0' shape=(144,) dtype=float32_ref>, 'bd1': <tf.Variable 'Variable_1715:0' shape=(1024,) dtype=float32_ref>, 'out': <tf.Variable 'Variable_1716:0' shape=(10,) dtype=float32_ref>}\n",
      "WARNING:tensorflow:From <ipython-input-291-0b31c1286971>:34: initialize_all_variables (from tensorflow.python.ops.variables) is deprecated and will be removed after 2017-03-02.\n",
      "Instructions for updating:\n",
      "Use `tf.global_variables_initializer` instead.\n",
      "Iter 0, Minibatch Loss= 1196.863589, Training Accuracy= 0.87976\n",
      "Iter 1, Minibatch Loss= 261.683096, Training Accuracy= 0.95581\n",
      "Iter 2, Minibatch Loss= 155.897989, Training Accuracy= 0.97074\n",
      "Iter 3, Minibatch Loss= 93.521840, Training Accuracy= 0.97848\n",
      "Iter 4, Minibatch Loss= 59.951500, Training Accuracy= 0.98431\n",
      "Iter 5, Minibatch Loss= 43.165108, Training Accuracy= 0.98748\n",
      "Iter 6, Minibatch Loss= 26.771948, Training Accuracy= 0.99033\n",
      "Iter 7, Minibatch Loss= 18.121886, Training Accuracy= 0.99217\n",
      "Iter 8, Minibatch Loss= 12.578217, Training Accuracy= 0.99383\n",
      "Iter 9, Minibatch Loss= 8.077386, Training Accuracy= 0.99567\n",
      "[[array([ 3,  2, 72,  2]), 0.99690476123775285], [array([ 3,  4, 80,  2]), 0.9968333323086962], [array([ 3,  3, 72,  2]), 0.99680952358813024], [array([ 4,  3, 72,  2]), 0.99666666594289144], [array([ 3,  3, 64,  3]), 0.99664285729328295], [array([ 3,  3, 80,  2]), 0.99638095178773878], [array([ 3,  4, 80,  1]), 0.9962857136414115], [array([ 2,  3, 72,  2]), 0.99566666682560734], [array([ 3,  1, 72,  2]), 0.9948095237924881], [array([ 3,  1, 72,  1]), 0.99469047493877305]]\n",
      "NEW GENERATION:\n",
      "[[ 3  3 72  4]\n",
      " [ 4  2 80  3]\n",
      " [ 3  2 72  2]\n",
      " [ 3  2 80  2]\n",
      " [ 2  5 80  2]\n",
      " [ 3  1 72  3]\n",
      " [ 3  2 64  3]\n",
      " [ 2  3 80  3]\n",
      " [ 3  3 72  2]\n",
      " [ 2  2 72  3]]\n",
      "{'wc1': <tf.Variable 'Variable_1717:0' shape=(3, 3, 1, 72) dtype=float32_ref>, 'wc2': <tf.Variable 'Variable_1718:0' shape=(3, 3, 72, 288) dtype=float32_ref>, 'wd1': <tf.Variable 'Variable_1719:0' shape=(14112, 1024) dtype=float32_ref>, 'out': <tf.Variable 'Variable_1720:0' shape=(1024, 10) dtype=float32_ref>}\n",
      "{'bc1': <tf.Variable 'Variable_1721:0' shape=(72,) dtype=float32_ref>, 'bc2': <tf.Variable 'Variable_1722:0' shape=(288,) dtype=float32_ref>, 'bd1': <tf.Variable 'Variable_1723:0' shape=(1024,) dtype=float32_ref>, 'out': <tf.Variable 'Variable_1724:0' shape=(10,) dtype=float32_ref>}\n",
      "WARNING:tensorflow:From <ipython-input-291-0b31c1286971>:34: initialize_all_variables (from tensorflow.python.ops.variables) is deprecated and will be removed after 2017-03-02.\n",
      "Instructions for updating:\n",
      "Use `tf.global_variables_initializer` instead.\n",
      "Iter 0, Minibatch Loss= 2068.893688, Training Accuracy= 0.90155\n",
      "Iter 1, Minibatch Loss= 492.911514, Training Accuracy= 0.96524\n",
      "Iter 2, Minibatch Loss= 284.163255, Training Accuracy= 0.97676\n",
      "Iter 3, Minibatch Loss= 175.618958, Training Accuracy= 0.98286\n",
      "Iter 4, Minibatch Loss= 94.764923, Training Accuracy= 0.98936\n",
      "Iter 5, Minibatch Loss= 71.799195, Training Accuracy= 0.99143\n",
      "Iter 6, Minibatch Loss= 48.418037, Training Accuracy= 0.99310\n",
      "Iter 7, Minibatch Loss= 33.686217, Training Accuracy= 0.99402\n",
      "Iter 8, Minibatch Loss= 20.846861, Training Accuracy= 0.99593\n",
      "Iter 9, Minibatch Loss= 12.124632, Training Accuracy= 0.99755\n",
      "{'wc1': <tf.Variable 'Variable_1725:0' shape=(4, 4, 1, 80) dtype=float32_ref>, 'wc2': <tf.Variable 'Variable_1726:0' shape=(2, 2, 80, 240) dtype=float32_ref>, 'wd1': <tf.Variable 'Variable_1727:0' shape=(11760, 1024) dtype=float32_ref>, 'out': <tf.Variable 'Variable_1728:0' shape=(1024, 10) dtype=float32_ref>}\n",
      "{'bc1': <tf.Variable 'Variable_1729:0' shape=(80,) dtype=float32_ref>, 'bc2': <tf.Variable 'Variable_1730:0' shape=(240,) dtype=float32_ref>, 'bd1': <tf.Variable 'Variable_1731:0' shape=(1024,) dtype=float32_ref>, 'out': <tf.Variable 'Variable_1732:0' shape=(10,) dtype=float32_ref>}\n",
      "WARNING:tensorflow:From <ipython-input-291-0b31c1286971>:34: initialize_all_variables (from tensorflow.python.ops.variables) is deprecated and will be removed after 2017-03-02.\n",
      "Instructions for updating:\n",
      "Use `tf.global_variables_initializer` instead.\n"
     ]
    },
    {
     "name": "stdout",
     "output_type": "stream",
     "text": [
      "Iter 0, Minibatch Loss= 1823.181111, Training Accuracy= 0.89350\n",
      "Iter 1, Minibatch Loss= 331.512413, Training Accuracy= 0.96650\n",
      "Iter 2, Minibatch Loss= 212.184380, Training Accuracy= 0.97700\n",
      "Iter 3, Minibatch Loss= 121.331757, Training Accuracy= 0.98517\n",
      "Iter 4, Minibatch Loss= 71.917388, Training Accuracy= 0.98938\n",
      "Iter 5, Minibatch Loss= 46.502496, Training Accuracy= 0.99236\n",
      "Iter 6, Minibatch Loss= 34.149727, Training Accuracy= 0.99402\n",
      "Iter 7, Minibatch Loss= 20.166857, Training Accuracy= 0.99605\n",
      "Iter 8, Minibatch Loss= 15.243087, Training Accuracy= 0.99657\n",
      "Iter 9, Minibatch Loss= 12.755933, Training Accuracy= 0.99674\n",
      "{'wc1': <tf.Variable 'Variable_1733:0' shape=(3, 3, 1, 72) dtype=float32_ref>, 'wc2': <tf.Variable 'Variable_1734:0' shape=(2, 2, 72, 144) dtype=float32_ref>, 'wd1': <tf.Variable 'Variable_1735:0' shape=(7056, 1024) dtype=float32_ref>, 'out': <tf.Variable 'Variable_1736:0' shape=(1024, 10) dtype=float32_ref>}\n",
      "{'bc1': <tf.Variable 'Variable_1737:0' shape=(72,) dtype=float32_ref>, 'bc2': <tf.Variable 'Variable_1738:0' shape=(144,) dtype=float32_ref>, 'bd1': <tf.Variable 'Variable_1739:0' shape=(1024,) dtype=float32_ref>, 'out': <tf.Variable 'Variable_1740:0' shape=(10,) dtype=float32_ref>}\n",
      "WARNING:tensorflow:From <ipython-input-291-0b31c1286971>:34: initialize_all_variables (from tensorflow.python.ops.variables) is deprecated and will be removed after 2017-03-02.\n",
      "Instructions for updating:\n",
      "Use `tf.global_variables_initializer` instead.\n",
      "Iter 0, Minibatch Loss= 1353.681458, Training Accuracy= 0.88317\n",
      "Iter 1, Minibatch Loss= 286.619029, Training Accuracy= 0.95986\n",
      "Iter 2, Minibatch Loss= 166.131031, Training Accuracy= 0.97376\n",
      "Iter 3, Minibatch Loss= 109.583556, Training Accuracy= 0.98010\n",
      "Iter 4, Minibatch Loss= 71.629194, Training Accuracy= 0.98479\n",
      "Iter 5, Minibatch Loss= 50.582594, Training Accuracy= 0.98852\n",
      "Iter 6, Minibatch Loss= 31.328804, Training Accuracy= 0.99126\n",
      "Iter 7, Minibatch Loss= 20.696992, Training Accuracy= 0.99267\n",
      "Iter 8, Minibatch Loss= 13.271189, Training Accuracy= 0.99517\n",
      "Iter 9, Minibatch Loss= 10.353898, Training Accuracy= 0.99595\n",
      "{'wc1': <tf.Variable 'Variable_1741:0' shape=(3, 3, 1, 80) dtype=float32_ref>, 'wc2': <tf.Variable 'Variable_1742:0' shape=(2, 2, 80, 160) dtype=float32_ref>, 'wd1': <tf.Variable 'Variable_1743:0' shape=(7840, 1024) dtype=float32_ref>, 'out': <tf.Variable 'Variable_1744:0' shape=(1024, 10) dtype=float32_ref>}\n",
      "{'bc1': <tf.Variable 'Variable_1745:0' shape=(80,) dtype=float32_ref>, 'bc2': <tf.Variable 'Variable_1746:0' shape=(160,) dtype=float32_ref>, 'bd1': <tf.Variable 'Variable_1747:0' shape=(1024,) dtype=float32_ref>, 'out': <tf.Variable 'Variable_1748:0' shape=(10,) dtype=float32_ref>}\n",
      "WARNING:tensorflow:From <ipython-input-291-0b31c1286971>:34: initialize_all_variables (from tensorflow.python.ops.variables) is deprecated and will be removed after 2017-03-02.\n",
      "Instructions for updating:\n",
      "Use `tf.global_variables_initializer` instead.\n",
      "Iter 0, Minibatch Loss= 1462.068879, Training Accuracy= 0.88200\n",
      "Iter 1, Minibatch Loss= 240.056215, Training Accuracy= 0.96314\n",
      "Iter 2, Minibatch Loss= 143.762293, Training Accuracy= 0.97452\n",
      "Iter 3, Minibatch Loss= 91.642942, Training Accuracy= 0.98119\n",
      "Iter 4, Minibatch Loss= 63.600546, Training Accuracy= 0.98507\n",
      "Iter 5, Minibatch Loss= 33.125390, Training Accuracy= 0.99055\n",
      "Iter 6, Minibatch Loss= 27.620560, Training Accuracy= 0.99219\n",
      "Iter 7, Minibatch Loss= 18.443046, Training Accuracy= 0.99343\n",
      "Iter 8, Minibatch Loss= 10.540605, Training Accuracy= 0.99567\n",
      "Iter 9, Minibatch Loss= 8.766593, Training Accuracy= 0.99593\n",
      "{'wc1': <tf.Variable 'Variable_1749:0' shape=(2, 2, 1, 80) dtype=float32_ref>, 'wc2': <tf.Variable 'Variable_1750:0' shape=(5, 5, 80, 160) dtype=float32_ref>, 'wd1': <tf.Variable 'Variable_1751:0' shape=(7840, 1024) dtype=float32_ref>, 'out': <tf.Variable 'Variable_1752:0' shape=(1024, 10) dtype=float32_ref>}\n",
      "{'bc1': <tf.Variable 'Variable_1753:0' shape=(80,) dtype=float32_ref>, 'bc2': <tf.Variable 'Variable_1754:0' shape=(160,) dtype=float32_ref>, 'bd1': <tf.Variable 'Variable_1755:0' shape=(1024,) dtype=float32_ref>, 'out': <tf.Variable 'Variable_1756:0' shape=(10,) dtype=float32_ref>}\n",
      "WARNING:tensorflow:From <ipython-input-291-0b31c1286971>:34: initialize_all_variables (from tensorflow.python.ops.variables) is deprecated and will be removed after 2017-03-02.\n",
      "Instructions for updating:\n",
      "Use `tf.global_variables_initializer` instead.\n",
      "Iter 0, Minibatch Loss= 2208.930820, Training Accuracy= 0.87595\n",
      "Iter 1, Minibatch Loss= 507.482537, Training Accuracy= 0.95519\n",
      "Iter 2, Minibatch Loss= 292.141265, Training Accuracy= 0.97040\n",
      "Iter 3, Minibatch Loss= 173.498251, Training Accuracy= 0.97871\n",
      "Iter 4, Minibatch Loss= 115.168424, Training Accuracy= 0.98369\n",
      "Iter 5, Minibatch Loss= 70.057203, Training Accuracy= 0.98807\n",
      "Iter 6, Minibatch Loss= 57.967812, Training Accuracy= 0.98936\n",
      "Iter 7, Minibatch Loss= 35.939407, Training Accuracy= 0.99226\n",
      "Iter 8, Minibatch Loss= 27.740930, Training Accuracy= 0.99371\n",
      "Iter 9, Minibatch Loss= 20.061717, Training Accuracy= 0.99479\n",
      "{'wc1': <tf.Variable 'Variable_1757:0' shape=(3, 3, 1, 72) dtype=float32_ref>, 'wc2': <tf.Variable 'Variable_1758:0' shape=(1, 1, 72, 216) dtype=float32_ref>, 'wd1': <tf.Variable 'Variable_1759:0' shape=(10584, 1024) dtype=float32_ref>, 'out': <tf.Variable 'Variable_1760:0' shape=(1024, 10) dtype=float32_ref>}\n",
      "{'bc1': <tf.Variable 'Variable_1761:0' shape=(72,) dtype=float32_ref>, 'bc2': <tf.Variable 'Variable_1762:0' shape=(216,) dtype=float32_ref>, 'bd1': <tf.Variable 'Variable_1763:0' shape=(1024,) dtype=float32_ref>, 'out': <tf.Variable 'Variable_1764:0' shape=(10,) dtype=float32_ref>}\n",
      "WARNING:tensorflow:From <ipython-input-291-0b31c1286971>:34: initialize_all_variables (from tensorflow.python.ops.variables) is deprecated and will be removed after 2017-03-02.\n",
      "Instructions for updating:\n",
      "Use `tf.global_variables_initializer` instead.\n",
      "Iter 0, Minibatch Loss= 642.273559, Training Accuracy= 0.87610\n",
      "Iter 1, Minibatch Loss= 153.298682, Training Accuracy= 0.95479\n",
      "Iter 2, Minibatch Loss= 92.723232, Training Accuracy= 0.96814\n",
      "Iter 3, Minibatch Loss= 62.813215, Training Accuracy= 0.97755\n",
      "Iter 4, Minibatch Loss= 42.044293, Training Accuracy= 0.98271\n",
      "Iter 5, Minibatch Loss= 29.017875, Training Accuracy= 0.98567\n",
      "Iter 6, Minibatch Loss= 22.430085, Training Accuracy= 0.98876\n",
      "Iter 7, Minibatch Loss= 14.036910, Training Accuracy= 0.99219\n",
      "Iter 8, Minibatch Loss= 11.241433, Training Accuracy= 0.99298\n",
      "Iter 9, Minibatch Loss= 6.601929, Training Accuracy= 0.99500\n",
      "{'wc1': <tf.Variable 'Variable_1765:0' shape=(3, 3, 1, 64) dtype=float32_ref>, 'wc2': <tf.Variable 'Variable_1766:0' shape=(2, 2, 64, 192) dtype=float32_ref>, 'wd1': <tf.Variable 'Variable_1767:0' shape=(9408, 1024) dtype=float32_ref>, 'out': <tf.Variable 'Variable_1768:0' shape=(1024, 10) dtype=float32_ref>}\n",
      "{'bc1': <tf.Variable 'Variable_1769:0' shape=(64,) dtype=float32_ref>, 'bc2': <tf.Variable 'Variable_1770:0' shape=(192,) dtype=float32_ref>, 'bd1': <tf.Variable 'Variable_1771:0' shape=(1024,) dtype=float32_ref>, 'out': <tf.Variable 'Variable_1772:0' shape=(10,) dtype=float32_ref>}\n",
      "WARNING:tensorflow:From <ipython-input-291-0b31c1286971>:34: initialize_all_variables (from tensorflow.python.ops.variables) is deprecated and will be removed after 2017-03-02.\n",
      "Instructions for updating:\n",
      "Use `tf.global_variables_initializer` instead.\n",
      "Iter 0, Minibatch Loss= 1136.006627, Training Accuracy= 0.88312\n",
      "Iter 1, Minibatch Loss= 251.958260, Training Accuracy= 0.95936\n",
      "Iter 2, Minibatch Loss= 151.104752, Training Accuracy= 0.97200\n",
      "Iter 3, Minibatch Loss= 95.372335, Training Accuracy= 0.98124\n",
      "Iter 4, Minibatch Loss= 74.441570, Training Accuracy= 0.98326\n",
      "Iter 5, Minibatch Loss= 52.470770, Training Accuracy= 0.98733\n",
      "Iter 6, Minibatch Loss= 30.881076, Training Accuracy= 0.99090\n",
      "Iter 7, Minibatch Loss= 24.437293, Training Accuracy= 0.99238\n",
      "Iter 8, Minibatch Loss= 15.301569, Training Accuracy= 0.99488\n",
      "Iter 9, Minibatch Loss= 12.804263, Training Accuracy= 0.99498\n",
      "{'wc1': <tf.Variable 'Variable_1773:0' shape=(2, 2, 1, 80) dtype=float32_ref>, 'wc2': <tf.Variable 'Variable_1774:0' shape=(3, 3, 80, 240) dtype=float32_ref>, 'wd1': <tf.Variable 'Variable_1775:0' shape=(11760, 1024) dtype=float32_ref>, 'out': <tf.Variable 'Variable_1776:0' shape=(1024, 10) dtype=float32_ref>}\n",
      "{'bc1': <tf.Variable 'Variable_1777:0' shape=(80,) dtype=float32_ref>, 'bc2': <tf.Variable 'Variable_1778:0' shape=(240,) dtype=float32_ref>, 'bd1': <tf.Variable 'Variable_1779:0' shape=(1024,) dtype=float32_ref>, 'out': <tf.Variable 'Variable_1780:0' shape=(10,) dtype=float32_ref>}\n"
     ]
    },
    {
     "name": "stdout",
     "output_type": "stream",
     "text": [
      "WARNING:tensorflow:From <ipython-input-291-0b31c1286971>:34: initialize_all_variables (from tensorflow.python.ops.variables) is deprecated and will be removed after 2017-03-02.\n",
      "Instructions for updating:\n",
      "Use `tf.global_variables_initializer` instead.\n",
      "Iter 0, Minibatch Loss= 1859.207571, Training Accuracy= 0.87162\n",
      "Iter 1, Minibatch Loss= 486.393562, Training Accuracy= 0.94921\n",
      "Iter 2, Minibatch Loss= 272.062694, Training Accuracy= 0.96724\n",
      "Iter 3, Minibatch Loss= 162.744917, Training Accuracy= 0.97864\n",
      "Iter 4, Minibatch Loss= 115.674489, Training Accuracy= 0.98319\n",
      "Iter 5, Minibatch Loss= 79.537665, Training Accuracy= 0.98629\n",
      "Iter 6, Minibatch Loss= 46.116596, Training Accuracy= 0.98967\n",
      "Iter 7, Minibatch Loss= 39.652580, Training Accuracy= 0.99114\n",
      "Iter 8, Minibatch Loss= 23.275532, Training Accuracy= 0.99321\n",
      "Iter 9, Minibatch Loss= 18.908068, Training Accuracy= 0.99405\n",
      "{'wc1': <tf.Variable 'Variable_1781:0' shape=(3, 3, 1, 72) dtype=float32_ref>, 'wc2': <tf.Variable 'Variable_1782:0' shape=(3, 3, 72, 144) dtype=float32_ref>, 'wd1': <tf.Variable 'Variable_1783:0' shape=(7056, 1024) dtype=float32_ref>, 'out': <tf.Variable 'Variable_1784:0' shape=(1024, 10) dtype=float32_ref>}\n",
      "{'bc1': <tf.Variable 'Variable_1785:0' shape=(72,) dtype=float32_ref>, 'bc2': <tf.Variable 'Variable_1786:0' shape=(144,) dtype=float32_ref>, 'bd1': <tf.Variable 'Variable_1787:0' shape=(1024,) dtype=float32_ref>, 'out': <tf.Variable 'Variable_1788:0' shape=(10,) dtype=float32_ref>}\n",
      "WARNING:tensorflow:From <ipython-input-291-0b31c1286971>:34: initialize_all_variables (from tensorflow.python.ops.variables) is deprecated and will be removed after 2017-03-02.\n",
      "Instructions for updating:\n",
      "Use `tf.global_variables_initializer` instead.\n",
      "Iter 0, Minibatch Loss= 1434.322385, Training Accuracy= 0.89448\n",
      "Iter 1, Minibatch Loss= 284.564007, Training Accuracy= 0.96524\n",
      "Iter 2, Minibatch Loss= 162.508452, Training Accuracy= 0.97600\n",
      "Iter 3, Minibatch Loss= 95.750734, Training Accuracy= 0.98450\n",
      "Iter 4, Minibatch Loss= 58.037726, Training Accuracy= 0.98900\n",
      "Iter 5, Minibatch Loss= 42.445329, Training Accuracy= 0.99093\n",
      "Iter 6, Minibatch Loss= 25.207575, Training Accuracy= 0.99355\n",
      "Iter 7, Minibatch Loss= 17.677404, Training Accuracy= 0.99490\n",
      "Iter 8, Minibatch Loss= 14.843197, Training Accuracy= 0.99555\n",
      "Iter 9, Minibatch Loss= 8.339117, Training Accuracy= 0.99702\n",
      "{'wc1': <tf.Variable 'Variable_1789:0' shape=(2, 2, 1, 72) dtype=float32_ref>, 'wc2': <tf.Variable 'Variable_1790:0' shape=(2, 2, 72, 216) dtype=float32_ref>, 'wd1': <tf.Variable 'Variable_1791:0' shape=(10584, 1024) dtype=float32_ref>, 'out': <tf.Variable 'Variable_1792:0' shape=(1024, 10) dtype=float32_ref>}\n",
      "{'bc1': <tf.Variable 'Variable_1793:0' shape=(72,) dtype=float32_ref>, 'bc2': <tf.Variable 'Variable_1794:0' shape=(216,) dtype=float32_ref>, 'bd1': <tf.Variable 'Variable_1795:0' shape=(1024,) dtype=float32_ref>, 'out': <tf.Variable 'Variable_1796:0' shape=(10,) dtype=float32_ref>}\n",
      "WARNING:tensorflow:From <ipython-input-291-0b31c1286971>:34: initialize_all_variables (from tensorflow.python.ops.variables) is deprecated and will be removed after 2017-03-02.\n",
      "Instructions for updating:\n",
      "Use `tf.global_variables_initializer` instead.\n",
      "Iter 0, Minibatch Loss= 1007.908387, Training Accuracy= 0.87381\n",
      "Iter 1, Minibatch Loss= 240.035570, Training Accuracy= 0.95179\n",
      "Iter 2, Minibatch Loss= 137.839592, Training Accuracy= 0.96995\n",
      "Iter 3, Minibatch Loss= 99.841774, Training Accuracy= 0.97683\n",
      "Iter 4, Minibatch Loss= 62.249453, Training Accuracy= 0.98321\n",
      "Iter 5, Minibatch Loss= 45.018032, Training Accuracy= 0.98650\n",
      "Iter 6, Minibatch Loss= 30.079468, Training Accuracy= 0.98971\n",
      "Iter 7, Minibatch Loss= 21.228619, Training Accuracy= 0.99167\n",
      "Iter 8, Minibatch Loss= 14.039334, Training Accuracy= 0.99364\n",
      "Iter 9, Minibatch Loss= 10.182445, Training Accuracy= 0.99467\n",
      "[[array([ 3,  3, 72,  4]), 0.99754761925764945], [array([ 3,  3, 72,  2]), 0.99702380931093149], [array([ 4,  2, 80,  3]), 0.99673809565248417], [array([ 3,  2, 72,  2]), 0.99595238098075856], [array([ 3,  2, 80,  2]), 0.99592857084103414], [array([ 3,  1, 72,  3]), 0.99500000015610202], [array([ 3,  2, 64,  3]), 0.99497619022925132], [array([ 2,  5, 80,  2]), 0.99478571386563774], [array([ 2,  2, 72,  3]), 0.9946666663601238], [array([ 2,  3, 80,  3]), 0.99404761876378211]]\n",
      "NEW GENERATION:\n",
      "[[ 3  3 72  5]\n",
      " [ 3  3 72  4]\n",
      " [ 3  4 72  4]\n",
      " [ 3  2 72  4]\n",
      " [ 3  3 80  4]\n",
      " [ 3  1 64  5]\n",
      " [ 3  3 64  3]\n",
      " [ 2  3 72  4]\n",
      " [ 3  4 56  2]\n",
      " [ 2  3 80  5]]\n",
      "{'wc1': <tf.Variable 'Variable_1797:0' shape=(3, 3, 1, 72) dtype=float32_ref>, 'wc2': <tf.Variable 'Variable_1798:0' shape=(3, 3, 72, 360) dtype=float32_ref>, 'wd1': <tf.Variable 'Variable_1799:0' shape=(17640, 1024) dtype=float32_ref>, 'out': <tf.Variable 'Variable_1800:0' shape=(1024, 10) dtype=float32_ref>}\n",
      "{'bc1': <tf.Variable 'Variable_1801:0' shape=(72,) dtype=float32_ref>, 'bc2': <tf.Variable 'Variable_1802:0' shape=(360,) dtype=float32_ref>, 'bd1': <tf.Variable 'Variable_1803:0' shape=(1024,) dtype=float32_ref>, 'out': <tf.Variable 'Variable_1804:0' shape=(10,) dtype=float32_ref>}\n",
      "WARNING:tensorflow:From <ipython-input-291-0b31c1286971>:34: initialize_all_variables (from tensorflow.python.ops.variables) is deprecated and will be removed after 2017-03-02.\n",
      "Instructions for updating:\n",
      "Use `tf.global_variables_initializer` instead.\n"
     ]
    },
    {
     "ename": "ResourceExhaustedError",
     "evalue": "OOM when allocating tensor with shape[17640,1024]\n\t [[Node: Variable_1799/Assign = Assign[T=DT_FLOAT, _class=[\"loc:@Variable_1799\"], use_locking=true, validate_shape=true, _device=\"/job:localhost/replica:0/task:0/gpu:0\"](Variable_1799, random_normal_1799)]]\n\nCaused by op 'Variable_1799/Assign', defined at:\n  File \"D:\\Anaconda\\envs\\tensorflow\\lib\\runpy.py\", line 193, in _run_module_as_main\n    \"__main__\", mod_spec)\n  File \"D:\\Anaconda\\envs\\tensorflow\\lib\\runpy.py\", line 85, in _run_code\n    exec(code, run_globals)\n  File \"D:\\Anaconda\\envs\\tensorflow\\lib\\site-packages\\ipykernel_launcher.py\", line 16, in <module>\n    app.launch_new_instance()\n  File \"D:\\Anaconda\\envs\\tensorflow\\lib\\site-packages\\traitlets\\config\\application.py\", line 658, in launch_instance\n    app.start()\n  File \"D:\\Anaconda\\envs\\tensorflow\\lib\\site-packages\\ipykernel\\kernelapp.py\", line 477, in start\n    ioloop.IOLoop.instance().start()\n  File \"D:\\Anaconda\\envs\\tensorflow\\lib\\site-packages\\zmq\\eventloop\\ioloop.py\", line 177, in start\n    super(ZMQIOLoop, self).start()\n  File \"D:\\Anaconda\\envs\\tensorflow\\lib\\site-packages\\tornado\\ioloop.py\", line 888, in start\n    handler_func(fd_obj, events)\n  File \"D:\\Anaconda\\envs\\tensorflow\\lib\\site-packages\\tornado\\stack_context.py\", line 277, in null_wrapper\n    return fn(*args, **kwargs)\n  File \"D:\\Anaconda\\envs\\tensorflow\\lib\\site-packages\\zmq\\eventloop\\zmqstream.py\", line 440, in _handle_events\n    self._handle_recv()\n  File \"D:\\Anaconda\\envs\\tensorflow\\lib\\site-packages\\zmq\\eventloop\\zmqstream.py\", line 472, in _handle_recv\n    self._run_callback(callback, msg)\n  File \"D:\\Anaconda\\envs\\tensorflow\\lib\\site-packages\\zmq\\eventloop\\zmqstream.py\", line 414, in _run_callback\n    callback(*args, **kwargs)\n  File \"D:\\Anaconda\\envs\\tensorflow\\lib\\site-packages\\tornado\\stack_context.py\", line 277, in null_wrapper\n    return fn(*args, **kwargs)\n  File \"D:\\Anaconda\\envs\\tensorflow\\lib\\site-packages\\ipykernel\\kernelbase.py\", line 283, in dispatcher\n    return self.dispatch_shell(stream, msg)\n  File \"D:\\Anaconda\\envs\\tensorflow\\lib\\site-packages\\ipykernel\\kernelbase.py\", line 235, in dispatch_shell\n    handler(stream, idents, msg)\n  File \"D:\\Anaconda\\envs\\tensorflow\\lib\\site-packages\\ipykernel\\kernelbase.py\", line 399, in execute_request\n    user_expressions, allow_stdin)\n  File \"D:\\Anaconda\\envs\\tensorflow\\lib\\site-packages\\ipykernel\\ipkernel.py\", line 196, in do_execute\n    res = shell.run_cell(code, store_history=store_history, silent=silent)\n  File \"D:\\Anaconda\\envs\\tensorflow\\lib\\site-packages\\ipykernel\\zmqshell.py\", line 533, in run_cell\n    return super(ZMQInteractiveShell, self).run_cell(*args, **kwargs)\n  File \"D:\\Anaconda\\envs\\tensorflow\\lib\\site-packages\\IPython\\core\\interactiveshell.py\", line 2698, in run_cell\n    interactivity=interactivity, compiler=compiler, result=result)\n  File \"D:\\Anaconda\\envs\\tensorflow\\lib\\site-packages\\IPython\\core\\interactiveshell.py\", line 2802, in run_ast_nodes\n    if self.run_code(code, result):\n  File \"D:\\Anaconda\\envs\\tensorflow\\lib\\site-packages\\IPython\\core\\interactiveshell.py\", line 2862, in run_code\n    exec(code_obj, self.user_global_ns, self.user_ns)\n  File \"<ipython-input-292-88abc7560759>\", line 1, in <module>\n    genetic_algoss_dict=genetic_algo(np.array([[1,1]]),cnn_train)\n  File \"<ipython-input-290-9da674575089>\", line 36, in genetic_algo\n    pop_fitness=test_individuals(pop,nn_alg)\n  File \"<ipython-input-290-9da674575089>\", line 24, in test_individuals\n    fitness=nn_alg(per)\n  File \"<ipython-input-291-0b31c1286971>\", line 24, in cnn_train\n    weights=define_cnn_weights(l)\n  File \"<ipython-input-291-0b31c1286971>\", line 9, in define_cnn_weights\n    'wd1': tf.Variable(tf.random_normal([7*7*output_1*output_2_scale, 1024])),\n  File \"D:\\Anaconda\\envs\\tensorflow\\lib\\site-packages\\tensorflow\\python\\ops\\variables.py\", line 197, in __init__\n    expected_shape=expected_shape)\n  File \"D:\\Anaconda\\envs\\tensorflow\\lib\\site-packages\\tensorflow\\python\\ops\\variables.py\", line 306, in _init_from_args\n    validate_shape=validate_shape).op\n  File \"D:\\Anaconda\\envs\\tensorflow\\lib\\site-packages\\tensorflow\\python\\ops\\state_ops.py\", line 270, in assign\n    validate_shape=validate_shape)\n  File \"D:\\Anaconda\\envs\\tensorflow\\lib\\site-packages\\tensorflow\\python\\ops\\gen_state_ops.py\", line 47, in assign\n    use_locking=use_locking, name=name)\n  File \"D:\\Anaconda\\envs\\tensorflow\\lib\\site-packages\\tensorflow\\python\\framework\\op_def_library.py\", line 768, in apply_op\n    op_def=op_def)\n  File \"D:\\Anaconda\\envs\\tensorflow\\lib\\site-packages\\tensorflow\\python\\framework\\ops.py\", line 2336, in create_op\n    original_op=self._default_original_op, op_def=op_def)\n  File \"D:\\Anaconda\\envs\\tensorflow\\lib\\site-packages\\tensorflow\\python\\framework\\ops.py\", line 1228, in __init__\n    self._traceback = _extract_stack()\n\nResourceExhaustedError (see above for traceback): OOM when allocating tensor with shape[17640,1024]\n\t [[Node: Variable_1799/Assign = Assign[T=DT_FLOAT, _class=[\"loc:@Variable_1799\"], use_locking=true, validate_shape=true, _device=\"/job:localhost/replica:0/task:0/gpu:0\"](Variable_1799, random_normal_1799)]]\n",
     "output_type": "error",
     "traceback": [
      "\u001b[1;31m---------------------------------------------------------------------------\u001b[0m",
      "\u001b[1;31mResourceExhaustedError\u001b[0m                    Traceback (most recent call last)",
      "\u001b[1;32mD:\\Anaconda\\envs\\tensorflow\\lib\\site-packages\\tensorflow\\python\\client\\session.py\u001b[0m in \u001b[0;36m_do_call\u001b[1;34m(self, fn, *args)\u001b[0m\n\u001b[0;32m   1038\u001b[0m     \u001b[1;32mtry\u001b[0m\u001b[1;33m:\u001b[0m\u001b[1;33m\u001b[0m\u001b[0m\n\u001b[1;32m-> 1039\u001b[1;33m       \u001b[1;32mreturn\u001b[0m \u001b[0mfn\u001b[0m\u001b[1;33m(\u001b[0m\u001b[1;33m*\u001b[0m\u001b[0margs\u001b[0m\u001b[1;33m)\u001b[0m\u001b[1;33m\u001b[0m\u001b[0m\n\u001b[0m\u001b[0;32m   1040\u001b[0m     \u001b[1;32mexcept\u001b[0m \u001b[0merrors\u001b[0m\u001b[1;33m.\u001b[0m\u001b[0mOpError\u001b[0m \u001b[1;32mas\u001b[0m \u001b[0me\u001b[0m\u001b[1;33m:\u001b[0m\u001b[1;33m\u001b[0m\u001b[0m\n",
      "\u001b[1;32mD:\\Anaconda\\envs\\tensorflow\\lib\\site-packages\\tensorflow\\python\\client\\session.py\u001b[0m in \u001b[0;36m_run_fn\u001b[1;34m(session, feed_dict, fetch_list, target_list, options, run_metadata)\u001b[0m\n\u001b[0;32m   1020\u001b[0m                                  \u001b[0mfeed_dict\u001b[0m\u001b[1;33m,\u001b[0m \u001b[0mfetch_list\u001b[0m\u001b[1;33m,\u001b[0m \u001b[0mtarget_list\u001b[0m\u001b[1;33m,\u001b[0m\u001b[1;33m\u001b[0m\u001b[0m\n\u001b[1;32m-> 1021\u001b[1;33m                                  status, run_metadata)\n\u001b[0m\u001b[0;32m   1022\u001b[0m \u001b[1;33m\u001b[0m\u001b[0m\n",
      "\u001b[1;32mD:\\Anaconda\\envs\\tensorflow\\lib\\contextlib.py\u001b[0m in \u001b[0;36m__exit__\u001b[1;34m(self, type, value, traceback)\u001b[0m\n\u001b[0;32m     87\u001b[0m             \u001b[1;32mtry\u001b[0m\u001b[1;33m:\u001b[0m\u001b[1;33m\u001b[0m\u001b[0m\n\u001b[1;32m---> 88\u001b[1;33m                 \u001b[0mnext\u001b[0m\u001b[1;33m(\u001b[0m\u001b[0mself\u001b[0m\u001b[1;33m.\u001b[0m\u001b[0mgen\u001b[0m\u001b[1;33m)\u001b[0m\u001b[1;33m\u001b[0m\u001b[0m\n\u001b[0m\u001b[0;32m     89\u001b[0m             \u001b[1;32mexcept\u001b[0m \u001b[0mStopIteration\u001b[0m\u001b[1;33m:\u001b[0m\u001b[1;33m\u001b[0m\u001b[0m\n",
      "\u001b[1;32mD:\\Anaconda\\envs\\tensorflow\\lib\\site-packages\\tensorflow\\python\\framework\\errors_impl.py\u001b[0m in \u001b[0;36mraise_exception_on_not_ok_status\u001b[1;34m()\u001b[0m\n\u001b[0;32m    465\u001b[0m           \u001b[0mcompat\u001b[0m\u001b[1;33m.\u001b[0m\u001b[0mas_text\u001b[0m\u001b[1;33m(\u001b[0m\u001b[0mpywrap_tensorflow\u001b[0m\u001b[1;33m.\u001b[0m\u001b[0mTF_Message\u001b[0m\u001b[1;33m(\u001b[0m\u001b[0mstatus\u001b[0m\u001b[1;33m)\u001b[0m\u001b[1;33m)\u001b[0m\u001b[1;33m,\u001b[0m\u001b[1;33m\u001b[0m\u001b[0m\n\u001b[1;32m--> 466\u001b[1;33m           pywrap_tensorflow.TF_GetCode(status))\n\u001b[0m\u001b[0;32m    467\u001b[0m   \u001b[1;32mfinally\u001b[0m\u001b[1;33m:\u001b[0m\u001b[1;33m\u001b[0m\u001b[0m\n",
      "\u001b[1;31mResourceExhaustedError\u001b[0m: OOM when allocating tensor with shape[17640,1024]\n\t [[Node: Variable_1799/Assign = Assign[T=DT_FLOAT, _class=[\"loc:@Variable_1799\"], use_locking=true, validate_shape=true, _device=\"/job:localhost/replica:0/task:0/gpu:0\"](Variable_1799, random_normal_1799)]]",
      "\nDuring handling of the above exception, another exception occurred:\n",
      "\u001b[1;31mResourceExhaustedError\u001b[0m                    Traceback (most recent call last)",
      "\u001b[1;32m<ipython-input-292-88abc7560759>\u001b[0m in \u001b[0;36m<module>\u001b[1;34m()\u001b[0m\n\u001b[1;32m----> 1\u001b[1;33m \u001b[0mgenetic_algoss_dict\u001b[0m\u001b[1;33m=\u001b[0m\u001b[0mgenetic_algo\u001b[0m\u001b[1;33m(\u001b[0m\u001b[0mnp\u001b[0m\u001b[1;33m.\u001b[0m\u001b[0marray\u001b[0m\u001b[1;33m(\u001b[0m\u001b[1;33m[\u001b[0m\u001b[1;33m[\u001b[0m\u001b[1;36m1\u001b[0m\u001b[1;33m,\u001b[0m\u001b[1;36m1\u001b[0m\u001b[1;33m]\u001b[0m\u001b[1;33m]\u001b[0m\u001b[1;33m)\u001b[0m\u001b[1;33m,\u001b[0m\u001b[0mcnn_train\u001b[0m\u001b[1;33m)\u001b[0m\u001b[1;33m\u001b[0m\u001b[0m\n\u001b[0m",
      "\u001b[1;32m<ipython-input-290-9da674575089>\u001b[0m in \u001b[0;36mgenetic_algo\u001b[1;34m(shape, nn_alg, generations)\u001b[0m\n\u001b[0;32m     34\u001b[0m         \u001b[0mpop\u001b[0m\u001b[1;33m=\u001b[0m\u001b[0msimple_reproduce\u001b[0m\u001b[1;33m(\u001b[0m\u001b[0mpop_fitness\u001b[0m\u001b[1;33m[\u001b[0m\u001b[1;36m0\u001b[0m\u001b[1;33m]\u001b[0m\u001b[1;33m)\u001b[0m\u001b[1;33m\u001b[0m\u001b[0m\n\u001b[0;32m     35\u001b[0m         \u001b[0mprint\u001b[0m\u001b[1;33m(\u001b[0m\u001b[0mpop\u001b[0m\u001b[1;33m)\u001b[0m\u001b[1;33m\u001b[0m\u001b[0m\n\u001b[1;32m---> 36\u001b[1;33m         \u001b[0mpop_fitness\u001b[0m\u001b[1;33m=\u001b[0m\u001b[0mtest_individuals\u001b[0m\u001b[1;33m(\u001b[0m\u001b[0mpop\u001b[0m\u001b[1;33m,\u001b[0m\u001b[0mnn_alg\u001b[0m\u001b[1;33m)\u001b[0m\u001b[1;33m\u001b[0m\u001b[0m\n\u001b[0m\u001b[0;32m     37\u001b[0m         \u001b[0mprint\u001b[0m\u001b[1;33m(\u001b[0m\u001b[0mpop_fitness\u001b[0m\u001b[1;33m)\u001b[0m\u001b[1;33m\u001b[0m\u001b[0m\n\u001b[0;32m     38\u001b[0m         \u001b[0mfit_levels\u001b[0m\u001b[1;33m[\u001b[0m\u001b[0mgen\u001b[0m\u001b[1;33m]\u001b[0m\u001b[1;33m.\u001b[0m\u001b[0mappend\u001b[0m\u001b[1;33m(\u001b[0m\u001b[0mpop_fitness\u001b[0m\u001b[1;33m)\u001b[0m\u001b[1;33m\u001b[0m\u001b[0m\n",
      "\u001b[1;32m<ipython-input-290-9da674575089>\u001b[0m in \u001b[0;36mtest_individuals\u001b[1;34m(pop, nn_alg)\u001b[0m\n\u001b[0;32m     22\u001b[0m     \u001b[0mfit\u001b[0m\u001b[1;33m=\u001b[0m\u001b[1;33m[\u001b[0m\u001b[1;33m]\u001b[0m\u001b[1;33m\u001b[0m\u001b[0m\n\u001b[0;32m     23\u001b[0m     \u001b[1;32mfor\u001b[0m \u001b[0mper\u001b[0m \u001b[1;32min\u001b[0m \u001b[0mpop\u001b[0m\u001b[1;33m:\u001b[0m\u001b[1;33m\u001b[0m\u001b[0m\n\u001b[1;32m---> 24\u001b[1;33m         \u001b[0mfitness\u001b[0m\u001b[1;33m=\u001b[0m\u001b[0mnn_alg\u001b[0m\u001b[1;33m(\u001b[0m\u001b[0mper\u001b[0m\u001b[1;33m)\u001b[0m\u001b[1;33m\u001b[0m\u001b[0m\n\u001b[0m\u001b[0;32m     25\u001b[0m         \u001b[0mfit\u001b[0m\u001b[1;33m.\u001b[0m\u001b[0mappend\u001b[0m\u001b[1;33m(\u001b[0m\u001b[1;33m[\u001b[0m\u001b[0mper\u001b[0m\u001b[1;33m,\u001b[0m\u001b[0mfitness\u001b[0m\u001b[1;33m]\u001b[0m\u001b[1;33m)\u001b[0m\u001b[1;33m\u001b[0m\u001b[0m\n\u001b[0;32m     26\u001b[0m     \u001b[0mfit_sorted\u001b[0m\u001b[1;33m=\u001b[0m\u001b[0msorted\u001b[0m\u001b[1;33m(\u001b[0m\u001b[0mfit\u001b[0m\u001b[1;33m,\u001b[0m\u001b[0mkey\u001b[0m\u001b[1;33m=\u001b[0m\u001b[1;32mlambda\u001b[0m \u001b[0mx\u001b[0m\u001b[1;33m:\u001b[0m \u001b[0mx\u001b[0m\u001b[1;33m[\u001b[0m\u001b[1;36m1\u001b[0m\u001b[1;33m]\u001b[0m\u001b[1;33m,\u001b[0m\u001b[0mreverse\u001b[0m\u001b[1;33m=\u001b[0m\u001b[1;32mTrue\u001b[0m\u001b[1;33m)\u001b[0m\u001b[1;33m\u001b[0m\u001b[0m\n",
      "\u001b[1;32m<ipython-input-291-0b31c1286971>\u001b[0m in \u001b[0;36mcnn_train\u001b[1;34m(l)\u001b[0m\n\u001b[0;32m     34\u001b[0m     \u001b[0minit\u001b[0m \u001b[1;33m=\u001b[0m \u001b[0mtf\u001b[0m\u001b[1;33m.\u001b[0m\u001b[0minitialize_all_variables\u001b[0m\u001b[1;33m(\u001b[0m\u001b[1;33m)\u001b[0m\u001b[1;33m\u001b[0m\u001b[0m\n\u001b[0;32m     35\u001b[0m     \u001b[1;32mwith\u001b[0m \u001b[0mtf\u001b[0m\u001b[1;33m.\u001b[0m\u001b[0mSession\u001b[0m\u001b[1;33m(\u001b[0m\u001b[0mconfig\u001b[0m\u001b[1;33m=\u001b[0m\u001b[0mtf\u001b[0m\u001b[1;33m.\u001b[0m\u001b[0mConfigProto\u001b[0m\u001b[1;33m(\u001b[0m\u001b[0mlog_device_placement\u001b[0m\u001b[1;33m=\u001b[0m\u001b[1;32mTrue\u001b[0m\u001b[1;33m)\u001b[0m\u001b[1;33m)\u001b[0m \u001b[1;32mas\u001b[0m \u001b[0msess\u001b[0m\u001b[1;33m:\u001b[0m\u001b[1;33m\u001b[0m\u001b[0m\n\u001b[1;32m---> 36\u001b[1;33m         \u001b[0msess\u001b[0m\u001b[1;33m.\u001b[0m\u001b[0mrun\u001b[0m\u001b[1;33m(\u001b[0m\u001b[0minit\u001b[0m\u001b[1;33m)\u001b[0m\u001b[1;33m\u001b[0m\u001b[0m\n\u001b[0m\u001b[0;32m     37\u001b[0m         \u001b[1;32mfor\u001b[0m \u001b[0mepoch\u001b[0m \u001b[1;32min\u001b[0m \u001b[0mrange\u001b[0m\u001b[1;33m(\u001b[0m\u001b[0mtraining_epochs\u001b[0m\u001b[1;33m)\u001b[0m\u001b[1;33m:\u001b[0m\u001b[1;33m\u001b[0m\u001b[0m\n\u001b[0;32m     38\u001b[0m             \u001b[0mavg_cost\u001b[0m\u001b[1;33m=\u001b[0m\u001b[1;36m0\u001b[0m\u001b[1;33m\u001b[0m\u001b[0m\n",
      "\u001b[1;32mD:\\Anaconda\\envs\\tensorflow\\lib\\site-packages\\tensorflow\\python\\client\\session.py\u001b[0m in \u001b[0;36mrun\u001b[1;34m(self, fetches, feed_dict, options, run_metadata)\u001b[0m\n\u001b[0;32m    776\u001b[0m     \u001b[1;32mtry\u001b[0m\u001b[1;33m:\u001b[0m\u001b[1;33m\u001b[0m\u001b[0m\n\u001b[0;32m    777\u001b[0m       result = self._run(None, fetches, feed_dict, options_ptr,\n\u001b[1;32m--> 778\u001b[1;33m                          run_metadata_ptr)\n\u001b[0m\u001b[0;32m    779\u001b[0m       \u001b[1;32mif\u001b[0m \u001b[0mrun_metadata\u001b[0m\u001b[1;33m:\u001b[0m\u001b[1;33m\u001b[0m\u001b[0m\n\u001b[0;32m    780\u001b[0m         \u001b[0mproto_data\u001b[0m \u001b[1;33m=\u001b[0m \u001b[0mtf_session\u001b[0m\u001b[1;33m.\u001b[0m\u001b[0mTF_GetBuffer\u001b[0m\u001b[1;33m(\u001b[0m\u001b[0mrun_metadata_ptr\u001b[0m\u001b[1;33m)\u001b[0m\u001b[1;33m\u001b[0m\u001b[0m\n",
      "\u001b[1;32mD:\\Anaconda\\envs\\tensorflow\\lib\\site-packages\\tensorflow\\python\\client\\session.py\u001b[0m in \u001b[0;36m_run\u001b[1;34m(self, handle, fetches, feed_dict, options, run_metadata)\u001b[0m\n\u001b[0;32m    980\u001b[0m     \u001b[1;32mif\u001b[0m \u001b[0mfinal_fetches\u001b[0m \u001b[1;32mor\u001b[0m \u001b[0mfinal_targets\u001b[0m\u001b[1;33m:\u001b[0m\u001b[1;33m\u001b[0m\u001b[0m\n\u001b[0;32m    981\u001b[0m       results = self._do_run(handle, final_targets, final_fetches,\n\u001b[1;32m--> 982\u001b[1;33m                              feed_dict_string, options, run_metadata)\n\u001b[0m\u001b[0;32m    983\u001b[0m     \u001b[1;32melse\u001b[0m\u001b[1;33m:\u001b[0m\u001b[1;33m\u001b[0m\u001b[0m\n\u001b[0;32m    984\u001b[0m       \u001b[0mresults\u001b[0m \u001b[1;33m=\u001b[0m \u001b[1;33m[\u001b[0m\u001b[1;33m]\u001b[0m\u001b[1;33m\u001b[0m\u001b[0m\n",
      "\u001b[1;32mD:\\Anaconda\\envs\\tensorflow\\lib\\site-packages\\tensorflow\\python\\client\\session.py\u001b[0m in \u001b[0;36m_do_run\u001b[1;34m(self, handle, target_list, fetch_list, feed_dict, options, run_metadata)\u001b[0m\n\u001b[0;32m   1030\u001b[0m     \u001b[1;32mif\u001b[0m \u001b[0mhandle\u001b[0m \u001b[1;32mis\u001b[0m \u001b[1;32mNone\u001b[0m\u001b[1;33m:\u001b[0m\u001b[1;33m\u001b[0m\u001b[0m\n\u001b[0;32m   1031\u001b[0m       return self._do_call(_run_fn, self._session, feed_dict, fetch_list,\n\u001b[1;32m-> 1032\u001b[1;33m                            target_list, options, run_metadata)\n\u001b[0m\u001b[0;32m   1033\u001b[0m     \u001b[1;32melse\u001b[0m\u001b[1;33m:\u001b[0m\u001b[1;33m\u001b[0m\u001b[0m\n\u001b[0;32m   1034\u001b[0m       return self._do_call(_prun_fn, self._session, handle, feed_dict,\n",
      "\u001b[1;32mD:\\Anaconda\\envs\\tensorflow\\lib\\site-packages\\tensorflow\\python\\client\\session.py\u001b[0m in \u001b[0;36m_do_call\u001b[1;34m(self, fn, *args)\u001b[0m\n\u001b[0;32m   1050\u001b[0m         \u001b[1;32mexcept\u001b[0m \u001b[0mKeyError\u001b[0m\u001b[1;33m:\u001b[0m\u001b[1;33m\u001b[0m\u001b[0m\n\u001b[0;32m   1051\u001b[0m           \u001b[1;32mpass\u001b[0m\u001b[1;33m\u001b[0m\u001b[0m\n\u001b[1;32m-> 1052\u001b[1;33m       \u001b[1;32mraise\u001b[0m \u001b[0mtype\u001b[0m\u001b[1;33m(\u001b[0m\u001b[0me\u001b[0m\u001b[1;33m)\u001b[0m\u001b[1;33m(\u001b[0m\u001b[0mnode_def\u001b[0m\u001b[1;33m,\u001b[0m \u001b[0mop\u001b[0m\u001b[1;33m,\u001b[0m \u001b[0mmessage\u001b[0m\u001b[1;33m)\u001b[0m\u001b[1;33m\u001b[0m\u001b[0m\n\u001b[0m\u001b[0;32m   1053\u001b[0m \u001b[1;33m\u001b[0m\u001b[0m\n\u001b[0;32m   1054\u001b[0m   \u001b[1;32mdef\u001b[0m \u001b[0m_extend_graph\u001b[0m\u001b[1;33m(\u001b[0m\u001b[0mself\u001b[0m\u001b[1;33m)\u001b[0m\u001b[1;33m:\u001b[0m\u001b[1;33m\u001b[0m\u001b[0m\n",
      "\u001b[1;31mResourceExhaustedError\u001b[0m: OOM when allocating tensor with shape[17640,1024]\n\t [[Node: Variable_1799/Assign = Assign[T=DT_FLOAT, _class=[\"loc:@Variable_1799\"], use_locking=true, validate_shape=true, _device=\"/job:localhost/replica:0/task:0/gpu:0\"](Variable_1799, random_normal_1799)]]\n\nCaused by op 'Variable_1799/Assign', defined at:\n  File \"D:\\Anaconda\\envs\\tensorflow\\lib\\runpy.py\", line 193, in _run_module_as_main\n    \"__main__\", mod_spec)\n  File \"D:\\Anaconda\\envs\\tensorflow\\lib\\runpy.py\", line 85, in _run_code\n    exec(code, run_globals)\n  File \"D:\\Anaconda\\envs\\tensorflow\\lib\\site-packages\\ipykernel_launcher.py\", line 16, in <module>\n    app.launch_new_instance()\n  File \"D:\\Anaconda\\envs\\tensorflow\\lib\\site-packages\\traitlets\\config\\application.py\", line 658, in launch_instance\n    app.start()\n  File \"D:\\Anaconda\\envs\\tensorflow\\lib\\site-packages\\ipykernel\\kernelapp.py\", line 477, in start\n    ioloop.IOLoop.instance().start()\n  File \"D:\\Anaconda\\envs\\tensorflow\\lib\\site-packages\\zmq\\eventloop\\ioloop.py\", line 177, in start\n    super(ZMQIOLoop, self).start()\n  File \"D:\\Anaconda\\envs\\tensorflow\\lib\\site-packages\\tornado\\ioloop.py\", line 888, in start\n    handler_func(fd_obj, events)\n  File \"D:\\Anaconda\\envs\\tensorflow\\lib\\site-packages\\tornado\\stack_context.py\", line 277, in null_wrapper\n    return fn(*args, **kwargs)\n  File \"D:\\Anaconda\\envs\\tensorflow\\lib\\site-packages\\zmq\\eventloop\\zmqstream.py\", line 440, in _handle_events\n    self._handle_recv()\n  File \"D:\\Anaconda\\envs\\tensorflow\\lib\\site-packages\\zmq\\eventloop\\zmqstream.py\", line 472, in _handle_recv\n    self._run_callback(callback, msg)\n  File \"D:\\Anaconda\\envs\\tensorflow\\lib\\site-packages\\zmq\\eventloop\\zmqstream.py\", line 414, in _run_callback\n    callback(*args, **kwargs)\n  File \"D:\\Anaconda\\envs\\tensorflow\\lib\\site-packages\\tornado\\stack_context.py\", line 277, in null_wrapper\n    return fn(*args, **kwargs)\n  File \"D:\\Anaconda\\envs\\tensorflow\\lib\\site-packages\\ipykernel\\kernelbase.py\", line 283, in dispatcher\n    return self.dispatch_shell(stream, msg)\n  File \"D:\\Anaconda\\envs\\tensorflow\\lib\\site-packages\\ipykernel\\kernelbase.py\", line 235, in dispatch_shell\n    handler(stream, idents, msg)\n  File \"D:\\Anaconda\\envs\\tensorflow\\lib\\site-packages\\ipykernel\\kernelbase.py\", line 399, in execute_request\n    user_expressions, allow_stdin)\n  File \"D:\\Anaconda\\envs\\tensorflow\\lib\\site-packages\\ipykernel\\ipkernel.py\", line 196, in do_execute\n    res = shell.run_cell(code, store_history=store_history, silent=silent)\n  File \"D:\\Anaconda\\envs\\tensorflow\\lib\\site-packages\\ipykernel\\zmqshell.py\", line 533, in run_cell\n    return super(ZMQInteractiveShell, self).run_cell(*args, **kwargs)\n  File \"D:\\Anaconda\\envs\\tensorflow\\lib\\site-packages\\IPython\\core\\interactiveshell.py\", line 2698, in run_cell\n    interactivity=interactivity, compiler=compiler, result=result)\n  File \"D:\\Anaconda\\envs\\tensorflow\\lib\\site-packages\\IPython\\core\\interactiveshell.py\", line 2802, in run_ast_nodes\n    if self.run_code(code, result):\n  File \"D:\\Anaconda\\envs\\tensorflow\\lib\\site-packages\\IPython\\core\\interactiveshell.py\", line 2862, in run_code\n    exec(code_obj, self.user_global_ns, self.user_ns)\n  File \"<ipython-input-292-88abc7560759>\", line 1, in <module>\n    genetic_algoss_dict=genetic_algo(np.array([[1,1]]),cnn_train)\n  File \"<ipython-input-290-9da674575089>\", line 36, in genetic_algo\n    pop_fitness=test_individuals(pop,nn_alg)\n  File \"<ipython-input-290-9da674575089>\", line 24, in test_individuals\n    fitness=nn_alg(per)\n  File \"<ipython-input-291-0b31c1286971>\", line 24, in cnn_train\n    weights=define_cnn_weights(l)\n  File \"<ipython-input-291-0b31c1286971>\", line 9, in define_cnn_weights\n    'wd1': tf.Variable(tf.random_normal([7*7*output_1*output_2_scale, 1024])),\n  File \"D:\\Anaconda\\envs\\tensorflow\\lib\\site-packages\\tensorflow\\python\\ops\\variables.py\", line 197, in __init__\n    expected_shape=expected_shape)\n  File \"D:\\Anaconda\\envs\\tensorflow\\lib\\site-packages\\tensorflow\\python\\ops\\variables.py\", line 306, in _init_from_args\n    validate_shape=validate_shape).op\n  File \"D:\\Anaconda\\envs\\tensorflow\\lib\\site-packages\\tensorflow\\python\\ops\\state_ops.py\", line 270, in assign\n    validate_shape=validate_shape)\n  File \"D:\\Anaconda\\envs\\tensorflow\\lib\\site-packages\\tensorflow\\python\\ops\\gen_state_ops.py\", line 47, in assign\n    use_locking=use_locking, name=name)\n  File \"D:\\Anaconda\\envs\\tensorflow\\lib\\site-packages\\tensorflow\\python\\framework\\op_def_library.py\", line 768, in apply_op\n    op_def=op_def)\n  File \"D:\\Anaconda\\envs\\tensorflow\\lib\\site-packages\\tensorflow\\python\\framework\\ops.py\", line 2336, in create_op\n    original_op=self._default_original_op, op_def=op_def)\n  File \"D:\\Anaconda\\envs\\tensorflow\\lib\\site-packages\\tensorflow\\python\\framework\\ops.py\", line 1228, in __init__\n    self._traceback = _extract_stack()\n\nResourceExhaustedError (see above for traceback): OOM when allocating tensor with shape[17640,1024]\n\t [[Node: Variable_1799/Assign = Assign[T=DT_FLOAT, _class=[\"loc:@Variable_1799\"], use_locking=true, validate_shape=true, _device=\"/job:localhost/replica:0/task:0/gpu:0\"](Variable_1799, random_normal_1799)]]\n"
     ]
    }
   ],
   "source": [
    "genetic_algoss_dict=genetic_algo(np.array([[1,1]]),cnn_train)"
   ]
  },
  {
   "cell_type": "code",
   "execution_count": 60,
   "metadata": {
    "collapsed": true
   },
   "outputs": [],
   "source": [
    "pred = conv_net(x,weights,biases,keep_prob)"
   ]
  },
  {
   "cell_type": "code",
   "execution_count": 62,
   "metadata": {
    "collapsed": true
   },
   "outputs": [],
   "source": [
    "cost = tf.reduce_mean(tf.nn.softmax_cross_entropy_with_logits(logits=pred, labels=y))\n",
    "#cost = -tf.reduce_sum(y*tf.log(pred))\n",
    "optimizer = tf.train.AdamOptimizer(learning_rate=learning_rate).minimize(cost)"
   ]
  },
  {
   "cell_type": "code",
   "execution_count": 63,
   "metadata": {
    "collapsed": true
   },
   "outputs": [],
   "source": [
    "# Evaluate model\n",
    "correct_pred = tf.equal(tf.argmax(pred, 1), tf.argmax(y, 1))\n",
    "accuracy = tf.reduce_mean(tf.cast(correct_pred, tf.float32))"
   ]
  },
  {
   "cell_type": "code",
   "execution_count": 64,
   "metadata": {},
   "outputs": [
    {
     "name": "stdout",
     "output_type": "stream",
     "text": [
      "WARNING:tensorflow:From <ipython-input-64-c70fa5604581>:2: initialize_all_variables (from tensorflow.python.ops.variables) is deprecated and will be removed after 2017-03-02.\n",
      "Instructions for updating:\n",
      "Use `tf.global_variables_initializer` instead.\n"
     ]
    }
   ],
   "source": [
    "# Initializing the variables\n",
    "init = tf.initialize_all_variables()"
   ]
  },
  {
   "cell_type": "markdown",
   "metadata": {},
   "source": [
    "running_index=0\n",
    "trainlist=train.as_matrix()\n",
    "img_vals=trainlist[:,0]\n",
    "training_imgs = np.zeros((train.shape[0],n_classes))\n",
    "training_imgs[np.arange(train.shape[0]),img_vals.astype('int')]=1\n",
    "training_lbls=trainlist[:,1:]\n",
    "def next_batch(batch_size):\n",
    "    global running_index\n",
    "    global training_imgs\n",
    "    global training_lbls\n",
    "    start=running_index\n",
    "    running_index+=batch_size\n",
    "    if running_index > train.shape[0]:\n",
    "        perm = np.arange(train.shape[0])\n",
    "        np.random.shuffle(perm)\n",
    "        training_imgs=training_imgs[perm]\n",
    "        training_lbls=training_lbls[perm]\n",
    "        start=0\n",
    "        running_index=batch_size\n",
    "    end = running_index\n",
    "    return training_lbls[start:end],training_imgs[start:end]\n",
    "        "
   ]
  },
  {
   "cell_type": "code",
   "execution_count": 65,
   "metadata": {
    "scrolled": false
   },
   "outputs": [
    {
     "name": "stdout",
     "output_type": "stream",
     "text": [
      "Iter 0, Minibatch Loss= 11780.484097, Training Accuracy= 0.61388\n",
      "Iter 1, Minibatch Loss= 2282.959498, Training Accuracy= 0.87433\n",
      "Iter 2, Minibatch Loss= 1456.050982, Training Accuracy= 0.91202\n",
      "Iter 3, Minibatch Loss= 1065.244949, Training Accuracy= 0.92929\n",
      "Iter 4, Minibatch Loss= 813.728931, Training Accuracy= 0.93938\n",
      "Iter 5, Minibatch Loss= 636.396363, Training Accuracy= 0.94674\n",
      "Iter 6, Minibatch Loss= 502.320066, Training Accuracy= 0.95269\n",
      "Iter 7, Minibatch Loss= 409.251078, Training Accuracy= 0.95681\n",
      "Iter 8, Minibatch Loss= 334.412384, Training Accuracy= 0.96060\n",
      "Iter 9, Minibatch Loss= 279.558497, Training Accuracy= 0.96326\n",
      "Iter 10, Minibatch Loss= 237.491233, Training Accuracy= 0.96557\n",
      "Iter 11, Minibatch Loss= 205.497062, Training Accuracy= 0.96669\n",
      "Iter 12, Minibatch Loss= 175.805714, Training Accuracy= 0.96910\n",
      "Iter 13, Minibatch Loss= 151.423010, Training Accuracy= 0.97012\n",
      "Iter 14, Minibatch Loss= 131.164580, Training Accuracy= 0.97219\n",
      "Iter 15, Minibatch Loss= 113.734446, Training Accuracy= 0.97360\n",
      "Iter 16, Minibatch Loss= 101.357425, Training Accuracy= 0.97476\n",
      "Iter 17, Minibatch Loss= 88.673193, Training Accuracy= 0.97581\n",
      "Iter 18, Minibatch Loss= 80.267107, Training Accuracy= 0.97655\n",
      "Iter 19, Minibatch Loss= 71.152863, Training Accuracy= 0.97681\n",
      "Iter 20, Minibatch Loss= 64.875383, Training Accuracy= 0.97783\n",
      "Iter 21, Minibatch Loss= 58.171520, Training Accuracy= 0.97855\n",
      "Iter 22, Minibatch Loss= 52.630024, Training Accuracy= 0.97948\n",
      "Iter 23, Minibatch Loss= 48.205408, Training Accuracy= 0.98019\n",
      "Iter 24, Minibatch Loss= 45.192863, Training Accuracy= 0.98083\n",
      "Iter 25, Minibatch Loss= 41.078497, Training Accuracy= 0.98179\n",
      "Iter 26, Minibatch Loss= 37.695095, Training Accuracy= 0.98286\n",
      "Iter 27, Minibatch Loss= 34.021527, Training Accuracy= 0.98419\n",
      "Iter 28, Minibatch Loss= 30.813265, Training Accuracy= 0.98412\n",
      "Iter 29, Minibatch Loss= 28.902002, Training Accuracy= 0.98407\n",
      "Optimization Finished!\n",
      "Predicting Testing Set Classes...\n",
      "0.0% Done\n",
      "10.0% Done\n",
      "20.0% Done\n",
      "30.0% Done\n",
      "40.0% Done\n",
      "50.0% Done\n",
      "60.0% Done\n",
      "70.0% Done\n",
      "80.0% Done\n",
      "90.0% Done\n"
     ]
    }
   ],
   "source": [
    "with tf.Session(config=tf.ConfigProto(log_device_placement=True)) as sess:\n",
    "    sess.run(init)\n",
    "    for epoch in range(training_epochs):\n",
    "        avg_cost=0\n",
    "        avg_acc=0\n",
    "        # Keep training until reach max iterations\n",
    "        total_batch = int(np.shape(images)[0]/batch_size)\n",
    "        np.random.shuffle(trainlist)\n",
    "        for i in range(total_batch):\n",
    "            batch_x = trainlist[:,1:][i*batch_size:(i+1)*batch_size]\n",
    "            lbl_y = trainlist[:,0][i*batch_size:(i+1)*batch_size]\n",
    "            batch_y = np.zeros((batch_size,10))\n",
    "            batch_y[np.arange(batch_size),lbl_y.astype('int')]=1\n",
    "            # Run optimization op (backprop)\n",
    "            sess.run(optimizer, feed_dict={x: batch_x, y: batch_y,\n",
    "                                           keep_prob: dropout})\n",
    "            if epoch % display_step == 0:\n",
    "                # Calculate batch loss and accuracy\n",
    "                loss, acc = sess.run([cost, accuracy], feed_dict={x: batch_x,\n",
    "                                                                  y: batch_y,\n",
    "                                                                  keep_prob: 1.})\n",
    "                avg_cost += loss / total_batch\n",
    "                avg_acc += acc / total_batch\n",
    "        if epoch % display_step == 0:\n",
    "            print(\"Iter \" + str(epoch) + \", Minibatch Loss= \" + \\\n",
    "                \"{:.6f}\".format(avg_cost) + \", Training Accuracy= \" + \\\n",
    "                \"{:.5f}\".format(avg_acc))\n",
    "    print(\"Optimization Finished!\")\n",
    "    print(\"Predicting Testing Set Classes...\")\n",
    "    predict= tf.argmax(pred,1)\n",
    "    pred_labels = np.zeros(test.shape[0])\n",
    "    testmatrix=test.as_matrix()\n",
    "    for j in range(int(test.shape[0]/batch_size)):\n",
    "        if j % 56 == 0:\n",
    "            print(str((j/(test.shape[0]/batch_size))*100) + \"% Done\")\n",
    "        pred_labels[j*batch_size:(j+1)*batch_size] = predict.eval(feed_dict = {x: testmatrix[j*batch_size:(j+1)*batch_size],keep_prob:1.0})"
   ]
  },
  {
   "cell_type": "code",
   "execution_count": 66,
   "metadata": {
    "collapsed": true
   },
   "outputs": [],
   "source": [
    "Results['Label']=pred_labels.astype('int')\n",
    "Results[['ImageId','Label']].to_csv('CNpred.csv',index=False)\n",
    "Results.rename(columns={'Label': 'CNNpred'}, inplace=True)"
   ]
  },
  {
   "cell_type": "markdown",
   "metadata": {},
   "source": [
    "20 epochs; batch size of 50  = 96.586% Correct"
   ]
  },
  {
   "cell_type": "code",
   "execution_count": 116,
   "metadata": {},
   "outputs": [
    {
     "data": {
      "text/plain": [
       "(42000, 785)"
      ]
     },
     "execution_count": 116,
     "metadata": {},
     "output_type": "execute_result"
    }
   ],
   "source": [
    "train.shape"
   ]
  }
 ],
 "metadata": {
  "kernelspec": {
   "display_name": "Python 3",
   "language": "python",
   "name": "python3"
  },
  "language_info": {
   "codemirror_mode": {
    "name": "ipython",
    "version": 3
   },
   "file_extension": ".py",
   "mimetype": "text/x-python",
   "name": "python",
   "nbconvert_exporter": "python",
   "pygments_lexer": "ipython3",
   "version": "3.6.2"
  }
 },
 "nbformat": 4,
 "nbformat_minor": 1
}
